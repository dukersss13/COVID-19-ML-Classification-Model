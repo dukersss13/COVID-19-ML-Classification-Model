{
 "cells": [
  {
   "cell_type": "code",
   "execution_count": 1,
   "metadata": {},
   "outputs": [],
   "source": [
    "import numpy as np\n",
    "import matplotlib.pyplot as plt\n",
    "import pandas as pd\n",
    "%matplotlib inline"
   ]
  },
  {
   "cell_type": "markdown",
   "metadata": {},
   "source": [
    "#### Note: Duc did this first part; necessary for me to play :)"
   ]
  },
  {
   "cell_type": "code",
   "execution_count": 2,
   "metadata": {},
   "outputs": [],
   "source": [
    "train = pd.read_csv(\"covid2train.csv\", index_col = 0)"
   ]
  },
  {
   "cell_type": "code",
   "execution_count": 3,
   "metadata": {},
   "outputs": [],
   "source": [
    "def clean(train):\n",
    "    features = ['age', 'sex', 'country', 'chronic_disease_binary', 'que_paso']\n",
    "    xtrain = train[features]\n",
    "\n",
    "# Dropping NA's from only 'sex' + 'country'    \n",
    "    subset = xtrain.dropna(subset = ['age','sex','country'])\n",
    "    countries = xtrain['country'].drop_duplicates().dropna()\n",
    "\n",
    "# Replacing the age ranges with their means    \n",
    "    mp = {'20-29': np.mean([20,29]), '40-49': np.mean([40,49]),'50-59': np.mean([50,59]),\n",
    "          '60-69': np.mean([60,69]), '70-79': np.mean([70,79]),\n",
    "          '80-89': np.mean([80,89]),'90-99': np.mean([90,99]), '80-': 80}\n",
    "    \n",
    "# Dictionary replacing countries with numerical values\n",
    "    mp2 = {}\n",
    "    key = np.arange(len(countries) + 1)\n",
    "    for i,j in zip(countries,key):\n",
    "        val = {i:j}\n",
    "        mp2.update(val)\n",
    "        \n",
    "    mp3 = {'male': 0, 'female': 1}\n",
    "        \n",
    "# Updating the training data with new values\n",
    "    subset = subset.replace(mp).replace(mp2).replace(mp3)\n",
    "    subset['chronic_disease_binary'] = subset['chronic_disease_binary']*1\n",
    "    subset['age'] = subset['age'].astype(float)\n",
    "    \n",
    "    xtrain = subset\n",
    "    ytrain = subset['que_paso']\n",
    "    return xtrain, ytrain, mp2"
   ]
  },
  {
   "cell_type": "code",
   "execution_count": 4,
   "metadata": {},
   "outputs": [],
   "source": [
    "xtrain, ytrain, mp2 = clean(train)"
   ]
  },
  {
   "cell_type": "markdown",
   "metadata": {},
   "source": [
    "#### Done by ya boi, Matt \"the 'n' is silent\" Nwerem, cheeeeeeeyuuuuh"
   ]
  },
  {
   "cell_type": "code",
   "execution_count": 5,
   "metadata": {},
   "outputs": [
    {
     "data": {
      "text/plain": [
       "30.0    18\n",
       "84.5    17\n",
       "38.0    17\n",
       "42.0    15\n",
       "39.0    15\n",
       "        ..\n",
       "14.0     1\n",
       "10.0     1\n",
       "92.0     1\n",
       "15.0     1\n",
       "9.0      1\n",
       "Name: age, Length: 96, dtype: int64"
      ]
     },
     "execution_count": 5,
     "metadata": {},
     "output_type": "execute_result"
    }
   ],
   "source": [
    "xtrain.age.value_counts()"
   ]
  },
  {
   "cell_type": "code",
   "execution_count": 6,
   "metadata": {},
   "outputs": [
    {
     "data": {
      "text/plain": [
       "1    455\n",
       "0    218\n",
       "Name: que_paso, dtype: int64"
      ]
     },
     "execution_count": 6,
     "metadata": {},
     "output_type": "execute_result"
    }
   ],
   "source": [
    "ytrain.value_counts()"
   ]
  },
  {
   "cell_type": "code",
   "execution_count": 7,
   "metadata": {},
   "outputs": [
    {
     "data": {
      "text/html": [
       "<div>\n",
       "<style scoped>\n",
       "    .dataframe tbody tr th:only-of-type {\n",
       "        vertical-align: middle;\n",
       "    }\n",
       "\n",
       "    .dataframe tbody tr th {\n",
       "        vertical-align: top;\n",
       "    }\n",
       "\n",
       "    .dataframe thead th {\n",
       "        text-align: right;\n",
       "    }\n",
       "</style>\n",
       "<table border=\"1\" class=\"dataframe\">\n",
       "  <thead>\n",
       "    <tr style=\"text-align: right;\">\n",
       "      <th></th>\n",
       "      <th>age</th>\n",
       "      <th>sex</th>\n",
       "      <th>country</th>\n",
       "      <th>chronic_disease_binary</th>\n",
       "      <th>que_paso</th>\n",
       "    </tr>\n",
       "  </thead>\n",
       "  <tbody>\n",
       "    <tr>\n",
       "      <th>1</th>\n",
       "      <td>78.0</td>\n",
       "      <td>0</td>\n",
       "      <td>1</td>\n",
       "      <td>0</td>\n",
       "      <td>0</td>\n",
       "    </tr>\n",
       "    <tr>\n",
       "      <th>2</th>\n",
       "      <td>61.0</td>\n",
       "      <td>1</td>\n",
       "      <td>2</td>\n",
       "      <td>0</td>\n",
       "      <td>1</td>\n",
       "    </tr>\n",
       "    <tr>\n",
       "      <th>113</th>\n",
       "      <td>28.0</td>\n",
       "      <td>0</td>\n",
       "      <td>2</td>\n",
       "      <td>0</td>\n",
       "      <td>1</td>\n",
       "    </tr>\n",
       "    <tr>\n",
       "      <th>224</th>\n",
       "      <td>56.0</td>\n",
       "      <td>1</td>\n",
       "      <td>2</td>\n",
       "      <td>0</td>\n",
       "      <td>1</td>\n",
       "    </tr>\n",
       "    <tr>\n",
       "      <th>335</th>\n",
       "      <td>79.0</td>\n",
       "      <td>1</td>\n",
       "      <td>2</td>\n",
       "      <td>0</td>\n",
       "      <td>1</td>\n",
       "    </tr>\n",
       "    <tr>\n",
       "      <th>...</th>\n",
       "      <td>...</td>\n",
       "      <td>...</td>\n",
       "      <td>...</td>\n",
       "      <td>...</td>\n",
       "      <td>...</td>\n",
       "    </tr>\n",
       "    <tr>\n",
       "      <th>217292</th>\n",
       "      <td>84.5</td>\n",
       "      <td>1</td>\n",
       "      <td>15</td>\n",
       "      <td>0</td>\n",
       "      <td>0</td>\n",
       "    </tr>\n",
       "    <tr>\n",
       "      <th>217293</th>\n",
       "      <td>44.5</td>\n",
       "      <td>1</td>\n",
       "      <td>15</td>\n",
       "      <td>0</td>\n",
       "      <td>1</td>\n",
       "    </tr>\n",
       "    <tr>\n",
       "      <th>226430</th>\n",
       "      <td>80.0</td>\n",
       "      <td>1</td>\n",
       "      <td>15</td>\n",
       "      <td>0</td>\n",
       "      <td>0</td>\n",
       "    </tr>\n",
       "    <tr>\n",
       "      <th>228855</th>\n",
       "      <td>94.5</td>\n",
       "      <td>1</td>\n",
       "      <td>15</td>\n",
       "      <td>0</td>\n",
       "      <td>0</td>\n",
       "    </tr>\n",
       "    <tr>\n",
       "      <th>229810</th>\n",
       "      <td>54.5</td>\n",
       "      <td>0</td>\n",
       "      <td>15</td>\n",
       "      <td>0</td>\n",
       "      <td>1</td>\n",
       "    </tr>\n",
       "  </tbody>\n",
       "</table>\n",
       "<p>673 rows × 5 columns</p>\n",
       "</div>"
      ],
      "text/plain": [
       "         age  sex  country  chronic_disease_binary  que_paso\n",
       "1       78.0    0        1                       0         0\n",
       "2       61.0    1        2                       0         1\n",
       "113     28.0    0        2                       0         1\n",
       "224     56.0    1        2                       0         1\n",
       "335     79.0    1        2                       0         1\n",
       "...      ...  ...      ...                     ...       ...\n",
       "217292  84.5    1       15                       0         0\n",
       "217293  44.5    1       15                       0         1\n",
       "226430  80.0    1       15                       0         0\n",
       "228855  94.5    1       15                       0         0\n",
       "229810  54.5    0       15                       0         1\n",
       "\n",
       "[673 rows x 5 columns]"
      ]
     },
     "execution_count": 7,
     "metadata": {},
     "output_type": "execute_result"
    }
   ],
   "source": [
    "xtrain"
   ]
  },
  {
   "cell_type": "code",
   "execution_count": 8,
   "metadata": {},
   "outputs": [
    {
     "data": {
      "text/plain": [
       "0    406\n",
       "1    267\n",
       "Name: sex, dtype: int64"
      ]
     },
     "execution_count": 8,
     "metadata": {},
     "output_type": "execute_result"
    }
   ],
   "source": [
    "xtrain.sex.value_counts()"
   ]
  },
  {
   "cell_type": "code",
   "execution_count": 9,
   "metadata": {},
   "outputs": [
    {
     "data": {
      "text/plain": [
       "1         0\n",
       "2         1\n",
       "113       1\n",
       "224       1\n",
       "335       1\n",
       "         ..\n",
       "217292    0\n",
       "217293    1\n",
       "226430    0\n",
       "228855    0\n",
       "229810    1\n",
       "Name: que_paso, Length: 673, dtype: int64"
      ]
     },
     "execution_count": 9,
     "metadata": {},
     "output_type": "execute_result"
    }
   ],
   "source": [
    "ytrain     "
   ]
  },
  {
   "cell_type": "raw",
   "metadata": {},
   "source": [
    "log reg, naive bayes, random forest, NN\n"
   ]
  },
  {
   "cell_type": "markdown",
   "metadata": {},
   "source": [
    "### Linear Regression"
   ]
  },
  {
   "cell_type": "markdown",
   "metadata": {},
   "source": [
    "##### Sex and Age explain the most amount of data"
   ]
  },
  {
   "cell_type": "code",
   "execution_count": 10,
   "metadata": {},
   "outputs": [],
   "source": [
    "import statsmodels.api as sm\n",
    "import matplotlib.pyplot as plt"
   ]
  },
  {
   "cell_type": "code",
   "execution_count": 11,
   "metadata": {},
   "outputs": [
    {
     "data": {
      "text/html": [
       "<table class=\"simpletable\">\n",
       "<caption>OLS Regression Results</caption>\n",
       "<tr>\n",
       "  <th>Dep. Variable:</th>        <td>que_paso</td>     <th>  R-squared:         </th> <td>   0.372</td>\n",
       "</tr>\n",
       "<tr>\n",
       "  <th>Model:</th>                   <td>OLS</td>       <th>  Adj. R-squared:    </th> <td>   0.371</td>\n",
       "</tr>\n",
       "<tr>\n",
       "  <th>Method:</th>             <td>Least Squares</td>  <th>  F-statistic:       </th> <td>   398.0</td>\n",
       "</tr>\n",
       "<tr>\n",
       "  <th>Date:</th>             <td>Mon, 11 May 2020</td> <th>  Prob (F-statistic):</th> <td>6.99e-70</td>\n",
       "</tr>\n",
       "<tr>\n",
       "  <th>Time:</th>                 <td>22:59:54</td>     <th>  Log-Likelihood:    </th> <td> -287.19</td>\n",
       "</tr>\n",
       "<tr>\n",
       "  <th>No. Observations:</th>      <td>   673</td>      <th>  AIC:               </th> <td>   578.4</td>\n",
       "</tr>\n",
       "<tr>\n",
       "  <th>Df Residuals:</th>          <td>   671</td>      <th>  BIC:               </th> <td>   587.4</td>\n",
       "</tr>\n",
       "<tr>\n",
       "  <th>Df Model:</th>              <td>     1</td>      <th>                     </th>     <td> </td>   \n",
       "</tr>\n",
       "<tr>\n",
       "  <th>Covariance Type:</th>      <td>nonrobust</td>    <th>                     </th>     <td> </td>   \n",
       "</tr>\n",
       "</table>\n",
       "<table class=\"simpletable\">\n",
       "<tr>\n",
       "    <td></td>       <th>coef</th>     <th>std err</th>      <th>t</th>      <th>P>|t|</th>  <th>[0.025</th>    <th>0.975]</th>  \n",
       "</tr>\n",
       "<tr>\n",
       "  <th>const</th> <td>    1.3441</td> <td>    0.036</td> <td>   36.911</td> <td> 0.000</td> <td>    1.273</td> <td>    1.416</td>\n",
       "</tr>\n",
       "<tr>\n",
       "  <th>age</th>   <td>   -0.0134</td> <td>    0.001</td> <td>  -19.950</td> <td> 0.000</td> <td>   -0.015</td> <td>   -0.012</td>\n",
       "</tr>\n",
       "</table>\n",
       "<table class=\"simpletable\">\n",
       "<tr>\n",
       "  <th>Omnibus:</th>       <td>23.503</td> <th>  Durbin-Watson:     </th> <td>   1.347</td>\n",
       "</tr>\n",
       "<tr>\n",
       "  <th>Prob(Omnibus):</th> <td> 0.000</td> <th>  Jarque-Bera (JB):  </th> <td>  16.450</td>\n",
       "</tr>\n",
       "<tr>\n",
       "  <th>Skew:</th>          <td>-0.268</td> <th>  Prob(JB):          </th> <td>0.000268</td>\n",
       "</tr>\n",
       "<tr>\n",
       "  <th>Kurtosis:</th>      <td> 2.452</td> <th>  Cond. No.          </th> <td>    138.</td>\n",
       "</tr>\n",
       "</table><br/><br/>Warnings:<br/>[1] Standard Errors assume that the covariance matrix of the errors is correctly specified."
      ],
      "text/plain": [
       "<class 'statsmodels.iolib.summary.Summary'>\n",
       "\"\"\"\n",
       "                            OLS Regression Results                            \n",
       "==============================================================================\n",
       "Dep. Variable:               que_paso   R-squared:                       0.372\n",
       "Model:                            OLS   Adj. R-squared:                  0.371\n",
       "Method:                 Least Squares   F-statistic:                     398.0\n",
       "Date:                Mon, 11 May 2020   Prob (F-statistic):           6.99e-70\n",
       "Time:                        22:59:54   Log-Likelihood:                -287.19\n",
       "No. Observations:                 673   AIC:                             578.4\n",
       "Df Residuals:                     671   BIC:                             587.4\n",
       "Df Model:                           1                                         \n",
       "Covariance Type:            nonrobust                                         \n",
       "==============================================================================\n",
       "                 coef    std err          t      P>|t|      [0.025      0.975]\n",
       "------------------------------------------------------------------------------\n",
       "const          1.3441      0.036     36.911      0.000       1.273       1.416\n",
       "age           -0.0134      0.001    -19.950      0.000      -0.015      -0.012\n",
       "==============================================================================\n",
       "Omnibus:                       23.503   Durbin-Watson:                   1.347\n",
       "Prob(Omnibus):                  0.000   Jarque-Bera (JB):               16.450\n",
       "Skew:                          -0.268   Prob(JB):                     0.000268\n",
       "Kurtosis:                       2.452   Cond. No.                         138.\n",
       "==============================================================================\n",
       "\n",
       "Warnings:\n",
       "[1] Standard Errors assume that the covariance matrix of the errors is correctly specified.\n",
       "\"\"\""
      ]
     },
     "execution_count": 11,
     "metadata": {},
     "output_type": "execute_result"
    }
   ],
   "source": [
    "reg = sm.add_constant(xtrain['age'])\n",
    "results = sm.OLS(ytrain, reg).fit()\n",
    "results.summary()"
   ]
  },
  {
   "cell_type": "code",
   "execution_count": 12,
   "metadata": {},
   "outputs": [
    {
     "data": {
      "text/html": [
       "<table class=\"simpletable\">\n",
       "<caption>OLS Regression Results</caption>\n",
       "<tr>\n",
       "  <th>Dep. Variable:</th>        <td>que_paso</td>     <th>  R-squared:         </th> <td>   0.252</td>\n",
       "</tr>\n",
       "<tr>\n",
       "  <th>Model:</th>                   <td>OLS</td>       <th>  Adj. R-squared:    </th> <td>   0.251</td>\n",
       "</tr>\n",
       "<tr>\n",
       "  <th>Method:</th>             <td>Least Squares</td>  <th>  F-statistic:       </th> <td>   226.6</td>\n",
       "</tr>\n",
       "<tr>\n",
       "  <th>Date:</th>             <td>Mon, 11 May 2020</td> <th>  Prob (F-statistic):</th> <td>2.45e-44</td>\n",
       "</tr>\n",
       "<tr>\n",
       "  <th>Time:</th>                 <td>22:59:54</td>     <th>  Log-Likelihood:    </th> <td> -345.99</td>\n",
       "</tr>\n",
       "<tr>\n",
       "  <th>No. Observations:</th>      <td>   673</td>      <th>  AIC:               </th> <td>   696.0</td>\n",
       "</tr>\n",
       "<tr>\n",
       "  <th>Df Residuals:</th>          <td>   671</td>      <th>  BIC:               </th> <td>   705.0</td>\n",
       "</tr>\n",
       "<tr>\n",
       "  <th>Df Model:</th>              <td>     1</td>      <th>                     </th>     <td> </td>   \n",
       "</tr>\n",
       "<tr>\n",
       "  <th>Covariance Type:</th>      <td>nonrobust</td>    <th>                     </th>     <td> </td>   \n",
       "</tr>\n",
       "</table>\n",
       "<table class=\"simpletable\">\n",
       "<tr>\n",
       "             <td></td>               <th>coef</th>     <th>std err</th>      <th>t</th>      <th>P>|t|</th>  <th>[0.025</th>    <th>0.975]</th>  \n",
       "</tr>\n",
       "<tr>\n",
       "  <th>const</th>                  <td>    0.7873</td> <td>    0.017</td> <td>   45.564</td> <td> 0.000</td> <td>    0.753</td> <td>    0.821</td>\n",
       "</tr>\n",
       "<tr>\n",
       "  <th>chronic_disease_binary</th> <td>   -0.6084</td> <td>    0.040</td> <td>  -15.054</td> <td> 0.000</td> <td>   -0.688</td> <td>   -0.529</td>\n",
       "</tr>\n",
       "</table>\n",
       "<table class=\"simpletable\">\n",
       "<tr>\n",
       "  <th>Omnibus:</th>       <td>73.440</td> <th>  Durbin-Watson:     </th> <td>   1.131</td>\n",
       "</tr>\n",
       "<tr>\n",
       "  <th>Prob(Omnibus):</th> <td> 0.000</td> <th>  Jarque-Bera (JB):  </th> <td>  96.653</td>\n",
       "</tr>\n",
       "<tr>\n",
       "  <th>Skew:</th>          <td>-0.927</td> <th>  Prob(JB):          </th> <td>1.03e-21</td>\n",
       "</tr>\n",
       "<tr>\n",
       "  <th>Kurtosis:</th>      <td> 3.101</td> <th>  Cond. No.          </th> <td>    2.69</td>\n",
       "</tr>\n",
       "</table><br/><br/>Warnings:<br/>[1] Standard Errors assume that the covariance matrix of the errors is correctly specified."
      ],
      "text/plain": [
       "<class 'statsmodels.iolib.summary.Summary'>\n",
       "\"\"\"\n",
       "                            OLS Regression Results                            \n",
       "==============================================================================\n",
       "Dep. Variable:               que_paso   R-squared:                       0.252\n",
       "Model:                            OLS   Adj. R-squared:                  0.251\n",
       "Method:                 Least Squares   F-statistic:                     226.6\n",
       "Date:                Mon, 11 May 2020   Prob (F-statistic):           2.45e-44\n",
       "Time:                        22:59:54   Log-Likelihood:                -345.99\n",
       "No. Observations:                 673   AIC:                             696.0\n",
       "Df Residuals:                     671   BIC:                             705.0\n",
       "Df Model:                           1                                         \n",
       "Covariance Type:            nonrobust                                         \n",
       "==========================================================================================\n",
       "                             coef    std err          t      P>|t|      [0.025      0.975]\n",
       "------------------------------------------------------------------------------------------\n",
       "const                      0.7873      0.017     45.564      0.000       0.753       0.821\n",
       "chronic_disease_binary    -0.6084      0.040    -15.054      0.000      -0.688      -0.529\n",
       "==============================================================================\n",
       "Omnibus:                       73.440   Durbin-Watson:                   1.131\n",
       "Prob(Omnibus):                  0.000   Jarque-Bera (JB):               96.653\n",
       "Skew:                          -0.927   Prob(JB):                     1.03e-21\n",
       "Kurtosis:                       3.101   Cond. No.                         2.69\n",
       "==============================================================================\n",
       "\n",
       "Warnings:\n",
       "[1] Standard Errors assume that the covariance matrix of the errors is correctly specified.\n",
       "\"\"\""
      ]
     },
     "execution_count": 12,
     "metadata": {},
     "output_type": "execute_result"
    }
   ],
   "source": [
    "reg = sm.add_constant(xtrain['chronic_disease_binary'])\n",
    "results = sm.OLS(ytrain, reg).fit()\n",
    "results.summary()"
   ]
  },
  {
   "cell_type": "code",
   "execution_count": 13,
   "metadata": {},
   "outputs": [
    {
     "data": {
      "text/html": [
       "<table class=\"simpletable\">\n",
       "<caption>OLS Regression Results</caption>\n",
       "<tr>\n",
       "  <th>Dep. Variable:</th>        <td>que_paso</td>     <th>  R-squared:         </th> <td>   0.004</td>\n",
       "</tr>\n",
       "<tr>\n",
       "  <th>Model:</th>                   <td>OLS</td>       <th>  Adj. R-squared:    </th> <td>   0.002</td>\n",
       "</tr>\n",
       "<tr>\n",
       "  <th>Method:</th>             <td>Least Squares</td>  <th>  F-statistic:       </th> <td>   2.554</td>\n",
       "</tr>\n",
       "<tr>\n",
       "  <th>Date:</th>             <td>Mon, 11 May 2020</td> <th>  Prob (F-statistic):</th>  <td> 0.110</td> \n",
       "</tr>\n",
       "<tr>\n",
       "  <th>Time:</th>                 <td>22:59:54</td>     <th>  Log-Likelihood:    </th> <td> -442.63</td>\n",
       "</tr>\n",
       "<tr>\n",
       "  <th>No. Observations:</th>      <td>   673</td>      <th>  AIC:               </th> <td>   889.3</td>\n",
       "</tr>\n",
       "<tr>\n",
       "  <th>Df Residuals:</th>          <td>   671</td>      <th>  BIC:               </th> <td>   898.3</td>\n",
       "</tr>\n",
       "<tr>\n",
       "  <th>Df Model:</th>              <td>     1</td>      <th>                     </th>     <td> </td>   \n",
       "</tr>\n",
       "<tr>\n",
       "  <th>Covariance Type:</th>      <td>nonrobust</td>    <th>                     </th>     <td> </td>   \n",
       "</tr>\n",
       "</table>\n",
       "<table class=\"simpletable\">\n",
       "<tr>\n",
       "    <td></td>       <th>coef</th>     <th>std err</th>      <th>t</th>      <th>P>|t|</th>  <th>[0.025</th>    <th>0.975]</th>  \n",
       "</tr>\n",
       "<tr>\n",
       "  <th>const</th> <td>    0.6527</td> <td>    0.023</td> <td>   28.115</td> <td> 0.000</td> <td>    0.607</td> <td>    0.698</td>\n",
       "</tr>\n",
       "<tr>\n",
       "  <th>sex</th>   <td>    0.0589</td> <td>    0.037</td> <td>    1.598</td> <td> 0.110</td> <td>   -0.013</td> <td>    0.131</td>\n",
       "</tr>\n",
       "</table>\n",
       "<table class=\"simpletable\">\n",
       "<tr>\n",
       "  <th>Omnibus:</th>       <td>8861.567</td> <th>  Durbin-Watson:     </th> <td>   0.859</td>\n",
       "</tr>\n",
       "<tr>\n",
       "  <th>Prob(Omnibus):</th>  <td> 0.000</td>  <th>  Jarque-Bera (JB):  </th> <td> 119.564</td>\n",
       "</tr>\n",
       "<tr>\n",
       "  <th>Skew:</th>           <td>-0.748</td>  <th>  Prob(JB):          </th> <td>1.09e-26</td>\n",
       "</tr>\n",
       "<tr>\n",
       "  <th>Kurtosis:</th>       <td> 1.577</td>  <th>  Cond. No.          </th> <td>    2.45</td>\n",
       "</tr>\n",
       "</table><br/><br/>Warnings:<br/>[1] Standard Errors assume that the covariance matrix of the errors is correctly specified."
      ],
      "text/plain": [
       "<class 'statsmodels.iolib.summary.Summary'>\n",
       "\"\"\"\n",
       "                            OLS Regression Results                            \n",
       "==============================================================================\n",
       "Dep. Variable:               que_paso   R-squared:                       0.004\n",
       "Model:                            OLS   Adj. R-squared:                  0.002\n",
       "Method:                 Least Squares   F-statistic:                     2.554\n",
       "Date:                Mon, 11 May 2020   Prob (F-statistic):              0.110\n",
       "Time:                        22:59:54   Log-Likelihood:                -442.63\n",
       "No. Observations:                 673   AIC:                             889.3\n",
       "Df Residuals:                     671   BIC:                             898.3\n",
       "Df Model:                           1                                         \n",
       "Covariance Type:            nonrobust                                         \n",
       "==============================================================================\n",
       "                 coef    std err          t      P>|t|      [0.025      0.975]\n",
       "------------------------------------------------------------------------------\n",
       "const          0.6527      0.023     28.115      0.000       0.607       0.698\n",
       "sex            0.0589      0.037      1.598      0.110      -0.013       0.131\n",
       "==============================================================================\n",
       "Omnibus:                     8861.567   Durbin-Watson:                   0.859\n",
       "Prob(Omnibus):                  0.000   Jarque-Bera (JB):              119.564\n",
       "Skew:                          -0.748   Prob(JB):                     1.09e-26\n",
       "Kurtosis:                       1.577   Cond. No.                         2.45\n",
       "==============================================================================\n",
       "\n",
       "Warnings:\n",
       "[1] Standard Errors assume that the covariance matrix of the errors is correctly specified.\n",
       "\"\"\""
      ]
     },
     "execution_count": 13,
     "metadata": {},
     "output_type": "execute_result"
    }
   ],
   "source": [
    "reg = sm.add_constant(xtrain['sex'])\n",
    "results = sm.OLS(ytrain, reg).fit()\n",
    "results.summary()"
   ]
  },
  {
   "cell_type": "code",
   "execution_count": 14,
   "metadata": {},
   "outputs": [
    {
     "data": {
      "text/html": [
       "<table class=\"simpletable\">\n",
       "<caption>OLS Regression Results</caption>\n",
       "<tr>\n",
       "  <th>Dep. Variable:</th>        <td>que_paso</td>     <th>  R-squared:         </th> <td>   0.450</td>\n",
       "</tr>\n",
       "<tr>\n",
       "  <th>Model:</th>                   <td>OLS</td>       <th>  Adj. R-squared:    </th> <td>   0.448</td>\n",
       "</tr>\n",
       "<tr>\n",
       "  <th>Method:</th>             <td>Least Squares</td>  <th>  F-statistic:       </th> <td>   273.8</td>\n",
       "</tr>\n",
       "<tr>\n",
       "  <th>Date:</th>             <td>Mon, 11 May 2020</td> <th>  Prob (F-statistic):</th> <td>1.23e-87</td>\n",
       "</tr>\n",
       "<tr>\n",
       "  <th>Time:</th>                 <td>22:59:54</td>     <th>  Log-Likelihood:    </th> <td> -242.89</td>\n",
       "</tr>\n",
       "<tr>\n",
       "  <th>No. Observations:</th>      <td>   673</td>      <th>  AIC:               </th> <td>   491.8</td>\n",
       "</tr>\n",
       "<tr>\n",
       "  <th>Df Residuals:</th>          <td>   670</td>      <th>  BIC:               </th> <td>   505.3</td>\n",
       "</tr>\n",
       "<tr>\n",
       "  <th>Df Model:</th>              <td>     2</td>      <th>                     </th>     <td> </td>   \n",
       "</tr>\n",
       "<tr>\n",
       "  <th>Covariance Type:</th>      <td>nonrobust</td>    <th>                     </th>     <td> </td>   \n",
       "</tr>\n",
       "</table>\n",
       "<table class=\"simpletable\">\n",
       "<tr>\n",
       "             <td></td>               <th>coef</th>     <th>std err</th>      <th>t</th>      <th>P>|t|</th>  <th>[0.025</th>    <th>0.975]</th>  \n",
       "</tr>\n",
       "<tr>\n",
       "  <th>const</th>                  <td>    1.2758</td> <td>    0.035</td> <td>   36.622</td> <td> 0.000</td> <td>    1.207</td> <td>    1.344</td>\n",
       "</tr>\n",
       "<tr>\n",
       "  <th>age</th>                    <td>   -0.0106</td> <td>    0.001</td> <td>  -15.499</td> <td> 0.000</td> <td>   -0.012</td> <td>   -0.009</td>\n",
       "</tr>\n",
       "<tr>\n",
       "  <th>chronic_disease_binary</th> <td>   -0.3688</td> <td>    0.038</td> <td>   -9.710</td> <td> 0.000</td> <td>   -0.443</td> <td>   -0.294</td>\n",
       "</tr>\n",
       "</table>\n",
       "<table class=\"simpletable\">\n",
       "<tr>\n",
       "  <th>Omnibus:</th>       <td>14.226</td> <th>  Durbin-Watson:     </th> <td>   1.453</td>\n",
       "</tr>\n",
       "<tr>\n",
       "  <th>Prob(Omnibus):</th> <td> 0.001</td> <th>  Jarque-Bera (JB):  </th> <td>  14.952</td>\n",
       "</tr>\n",
       "<tr>\n",
       "  <th>Skew:</th>          <td>-0.316</td> <th>  Prob(JB):          </th> <td>0.000567</td>\n",
       "</tr>\n",
       "<tr>\n",
       "  <th>Kurtosis:</th>      <td> 3.366</td> <th>  Cond. No.          </th> <td>    163.</td>\n",
       "</tr>\n",
       "</table><br/><br/>Warnings:<br/>[1] Standard Errors assume that the covariance matrix of the errors is correctly specified."
      ],
      "text/plain": [
       "<class 'statsmodels.iolib.summary.Summary'>\n",
       "\"\"\"\n",
       "                            OLS Regression Results                            \n",
       "==============================================================================\n",
       "Dep. Variable:               que_paso   R-squared:                       0.450\n",
       "Model:                            OLS   Adj. R-squared:                  0.448\n",
       "Method:                 Least Squares   F-statistic:                     273.8\n",
       "Date:                Mon, 11 May 2020   Prob (F-statistic):           1.23e-87\n",
       "Time:                        22:59:54   Log-Likelihood:                -242.89\n",
       "No. Observations:                 673   AIC:                             491.8\n",
       "Df Residuals:                     670   BIC:                             505.3\n",
       "Df Model:                           2                                         \n",
       "Covariance Type:            nonrobust                                         \n",
       "==========================================================================================\n",
       "                             coef    std err          t      P>|t|      [0.025      0.975]\n",
       "------------------------------------------------------------------------------------------\n",
       "const                      1.2758      0.035     36.622      0.000       1.207       1.344\n",
       "age                       -0.0106      0.001    -15.499      0.000      -0.012      -0.009\n",
       "chronic_disease_binary    -0.3688      0.038     -9.710      0.000      -0.443      -0.294\n",
       "==============================================================================\n",
       "Omnibus:                       14.226   Durbin-Watson:                   1.453\n",
       "Prob(Omnibus):                  0.001   Jarque-Bera (JB):               14.952\n",
       "Skew:                          -0.316   Prob(JB):                     0.000567\n",
       "Kurtosis:                       3.366   Cond. No.                         163.\n",
       "==============================================================================\n",
       "\n",
       "Warnings:\n",
       "[1] Standard Errors assume that the covariance matrix of the errors is correctly specified.\n",
       "\"\"\""
      ]
     },
     "execution_count": 14,
     "metadata": {},
     "output_type": "execute_result"
    }
   ],
   "source": [
    "columns = xtrain[['age','chronic_disease_binary']]\n",
    "reg = sm.add_constant(columns)\n",
    "results = sm.OLS(ytrain, reg).fit()\n",
    "results.summary()"
   ]
  },
  {
   "cell_type": "markdown",
   "metadata": {},
   "source": [
    "### VIF comparison shows that our features are not vary correlated to each other"
   ]
  },
  {
   "cell_type": "code",
   "execution_count": 15,
   "metadata": {},
   "outputs": [],
   "source": [
    "def calculate_vif(r_squared):\n",
    "    ## Your code goes here\n",
    "    vif = 1/(1-r_squared)\n",
    "    \n",
    "    return vif"
   ]
  },
  {
   "cell_type": "code",
   "execution_count": 16,
   "metadata": {},
   "outputs": [],
   "source": [
    "def generate_vif_dataframe(train_data):\n",
    "    ## Your code goes here\n",
    "\n",
    "    #for column in data:\n",
    "        # take all nums in data and do single linreg w/ quality as y\n",
    "        # get r-squared for that column\n",
    "        # calcluate_vif(r-sqaured of column)\n",
    "        # create data frame, column 1 = var name, column 2 = VIF\n",
    "\n",
    "    varNames = np.array([])\n",
    "    VIFs = np.array([])\n",
    "\n",
    "    for column in train_data:\n",
    "        \n",
    "        columnObj = train_data.drop(column, axis = 1)\n",
    "        reg = sm.add_constant(columnObj)\n",
    "        results = sm.OLS(train_data[column], reg).fit()\n",
    "        r_sq = results.rsquared\n",
    "        VIF = calculate_vif(r_sq)\n",
    "\n",
    "        varNames= np.append(varNames, column)    \n",
    "        VIFs= np.append(VIFs, VIF)\n",
    "        \n",
    "    vif_dataframe = pd.DataFrame({\"Variable Name\": varNames, \"VIF\": VIFs})\n",
    "    \n",
    "    plt.bar(varNames,VIFs)\n",
    "    plt.xticks(rotation=50)\n",
    "    plt.title(\"VIFs of COVID-19 Data\")\n",
    "    return vif_dataframe"
   ]
  },
  {
   "cell_type": "code",
   "execution_count": 17,
   "metadata": {},
   "outputs": [
    {
     "data": {
      "text/html": [
       "<div>\n",
       "<style scoped>\n",
       "    .dataframe tbody tr th:only-of-type {\n",
       "        vertical-align: middle;\n",
       "    }\n",
       "\n",
       "    .dataframe tbody tr th {\n",
       "        vertical-align: top;\n",
       "    }\n",
       "\n",
       "    .dataframe thead th {\n",
       "        text-align: right;\n",
       "    }\n",
       "</style>\n",
       "<table border=\"1\" class=\"dataframe\">\n",
       "  <thead>\n",
       "    <tr style=\"text-align: right;\">\n",
       "      <th></th>\n",
       "      <th>Variable Name</th>\n",
       "      <th>VIF</th>\n",
       "    </tr>\n",
       "  </thead>\n",
       "  <tbody>\n",
       "    <tr>\n",
       "      <th>0</th>\n",
       "      <td>age</td>\n",
       "      <td>1.670313</td>\n",
       "    </tr>\n",
       "    <tr>\n",
       "      <th>1</th>\n",
       "      <td>sex</td>\n",
       "      <td>1.018556</td>\n",
       "    </tr>\n",
       "    <tr>\n",
       "      <th>2</th>\n",
       "      <td>country</td>\n",
       "      <td>1.022365</td>\n",
       "    </tr>\n",
       "    <tr>\n",
       "      <th>3</th>\n",
       "      <td>chronic_disease_binary</td>\n",
       "      <td>1.379227</td>\n",
       "    </tr>\n",
       "    <tr>\n",
       "      <th>4</th>\n",
       "      <td>que_paso</td>\n",
       "      <td>1.852313</td>\n",
       "    </tr>\n",
       "  </tbody>\n",
       "</table>\n",
       "</div>"
      ],
      "text/plain": [
       "            Variable Name       VIF\n",
       "0                     age  1.670313\n",
       "1                     sex  1.018556\n",
       "2                 country  1.022365\n",
       "3  chronic_disease_binary  1.379227\n",
       "4                que_paso  1.852313"
      ]
     },
     "execution_count": 17,
     "metadata": {},
     "output_type": "execute_result"
    },
    {
     "data": {
      "image/png": "[encoded data removed]",
      "text/plain": [
       "<Figure size 432x288 with 1 Axes>"
      ]
     },
     "metadata": {
      "needs_background": "light"
     },
     "output_type": "display_data"
    }
   ],
   "source": [
    "generate_vif_dataframe(xtrain)"
   ]
  },
  {
   "cell_type": "markdown",
   "metadata": {},
   "source": [
    "### Logistic Regression"
   ]
  },
  {
   "cell_type": "code",
   "execution_count": 18,
   "metadata": {},
   "outputs": [],
   "source": [
    "from sklearn.linear_model import LogisticRegression\n",
    "import matplotlib.pyplot as plt\n",
    "from sklearn.metrics import roc_curve\n",
    "from sklearn.metrics import roc_auc_score\n",
    "from sklearn.model_selection import train_test_split\n",
    "from sklearn.metrics import accuracy_score\n",
    "from sklearn import metrics\n",
    "from sklearn.linear_model import LogisticRegressionCV\n"
   ]
  },
  {
   "cell_type": "code",
   "execution_count": null,
   "metadata": {},
   "outputs": [],
   "source": []
  },
  {
   "cell_type": "code",
   "execution_count": 19,
   "metadata": {},
   "outputs": [],
   "source": [
    "x_train, x_test, y_train, y_test = train_test_split(xtrain, ytrain, test_size = 0.5)\n"
   ]
  },
  {
   "cell_type": "code",
   "execution_count": null,
   "metadata": {},
   "outputs": [],
   "source": []
  },
  {
   "cell_type": "code",
   "execution_count": 20,
   "metadata": {},
   "outputs": [
    {
     "name": "stdout",
     "output_type": "stream",
     "text": [
      "(336, 5)\n",
      "(336,)\n",
      "(337, 5)\n",
      "(337,)\n"
     ]
    }
   ],
   "source": [
    "print(x_train.shape)\n",
    "print(y_train.shape)\n",
    "print(x_test.shape)\n",
    "print(y_test.shape)"
   ]
  },
  {
   "cell_type": "code",
   "execution_count": 21,
   "metadata": {},
   "outputs": [
    {
     "data": {
      "text/plain": [
       "90480     1\n",
       "83473     0\n",
       "71636     1\n",
       "65854     0\n",
       "56832     0\n",
       "         ..\n",
       "40187     1\n",
       "90297     1\n",
       "74066     1\n",
       "82821     1\n",
       "135920    1\n",
       "Name: que_paso, Length: 336, dtype: int64"
      ]
     },
     "execution_count": 21,
     "metadata": {},
     "output_type": "execute_result"
    }
   ],
   "source": [
    "y_train"
   ]
  },
  {
   "cell_type": "code",
   "execution_count": 22,
   "metadata": {},
   "outputs": [],
   "source": [
    "y_train = x_train['que_paso']\n",
    "x_train = x_train.drop('que_paso', axis = 1)"
   ]
  },
  {
   "cell_type": "code",
   "execution_count": 23,
   "metadata": {},
   "outputs": [
    {
     "name": "stdout",
     "output_type": "stream",
     "text": [
      "(336, 4)\n",
      "(336,)\n",
      "(337, 5)\n",
      "(337,)\n"
     ]
    }
   ],
   "source": [
    "print(x_train.shape)\n",
    "print(y_train.shape)\n",
    "print(x_test.shape)\n",
    "print(y_test.shape)"
   ]
  },
  {
   "cell_type": "code",
   "execution_count": 24,
   "metadata": {},
   "outputs": [],
   "source": [
    "clf1 = LogisticRegression(solver = 'liblinear').fit(x_train,y_train)"
   ]
  },
  {
   "cell_type": "code",
   "execution_count": 25,
   "metadata": {},
   "outputs": [
    {
     "data": {
      "text/html": [
       "<div>\n",
       "<style scoped>\n",
       "    .dataframe tbody tr th:only-of-type {\n",
       "        vertical-align: middle;\n",
       "    }\n",
       "\n",
       "    .dataframe tbody tr th {\n",
       "        vertical-align: top;\n",
       "    }\n",
       "\n",
       "    .dataframe thead th {\n",
       "        text-align: right;\n",
       "    }\n",
       "</style>\n",
       "<table border=\"1\" class=\"dataframe\">\n",
       "  <thead>\n",
       "    <tr style=\"text-align: right;\">\n",
       "      <th></th>\n",
       "      <th>age</th>\n",
       "      <th>sex</th>\n",
       "      <th>country</th>\n",
       "      <th>chronic_disease_binary</th>\n",
       "      <th>que_paso</th>\n",
       "    </tr>\n",
       "  </thead>\n",
       "  <tbody>\n",
       "    <tr>\n",
       "      <th>66115</th>\n",
       "      <td>84.0</td>\n",
       "      <td>1</td>\n",
       "      <td>24</td>\n",
       "      <td>0</td>\n",
       "      <td>0</td>\n",
       "    </tr>\n",
       "    <tr>\n",
       "      <th>42184</th>\n",
       "      <td>29.0</td>\n",
       "      <td>1</td>\n",
       "      <td>19</td>\n",
       "      <td>0</td>\n",
       "      <td>1</td>\n",
       "    </tr>\n",
       "    <tr>\n",
       "      <th>83597</th>\n",
       "      <td>78.0</td>\n",
       "      <td>1</td>\n",
       "      <td>13</td>\n",
       "      <td>1</td>\n",
       "      <td>0</td>\n",
       "    </tr>\n",
       "    <tr>\n",
       "      <th>4556</th>\n",
       "      <td>38.0</td>\n",
       "      <td>1</td>\n",
       "      <td>0</td>\n",
       "      <td>0</td>\n",
       "      <td>1</td>\n",
       "    </tr>\n",
       "    <tr>\n",
       "      <th>71973</th>\n",
       "      <td>52.0</td>\n",
       "      <td>1</td>\n",
       "      <td>27</td>\n",
       "      <td>0</td>\n",
       "      <td>1</td>\n",
       "    </tr>\n",
       "    <tr>\n",
       "      <th>...</th>\n",
       "      <td>...</td>\n",
       "      <td>...</td>\n",
       "      <td>...</td>\n",
       "      <td>...</td>\n",
       "      <td>...</td>\n",
       "    </tr>\n",
       "    <tr>\n",
       "      <th>17840</th>\n",
       "      <td>70.0</td>\n",
       "      <td>0</td>\n",
       "      <td>7</td>\n",
       "      <td>0</td>\n",
       "      <td>1</td>\n",
       "    </tr>\n",
       "    <tr>\n",
       "      <th>42961</th>\n",
       "      <td>35.0</td>\n",
       "      <td>0</td>\n",
       "      <td>2</td>\n",
       "      <td>0</td>\n",
       "      <td>1</td>\n",
       "    </tr>\n",
       "    <tr>\n",
       "      <th>18828</th>\n",
       "      <td>54.5</td>\n",
       "      <td>0</td>\n",
       "      <td>15</td>\n",
       "      <td>0</td>\n",
       "      <td>0</td>\n",
       "    </tr>\n",
       "    <tr>\n",
       "      <th>67938</th>\n",
       "      <td>70.0</td>\n",
       "      <td>0</td>\n",
       "      <td>26</td>\n",
       "      <td>1</td>\n",
       "      <td>0</td>\n",
       "    </tr>\n",
       "    <tr>\n",
       "      <th>74048</th>\n",
       "      <td>61.0</td>\n",
       "      <td>1</td>\n",
       "      <td>2</td>\n",
       "      <td>0</td>\n",
       "      <td>1</td>\n",
       "    </tr>\n",
       "  </tbody>\n",
       "</table>\n",
       "<p>337 rows × 5 columns</p>\n",
       "</div>"
      ],
      "text/plain": [
       "        age  sex  country  chronic_disease_binary  que_paso\n",
       "66115  84.0    1       24                       0         0\n",
       "42184  29.0    1       19                       0         1\n",
       "83597  78.0    1       13                       1         0\n",
       "4556   38.0    1        0                       0         1\n",
       "71973  52.0    1       27                       0         1\n",
       "...     ...  ...      ...                     ...       ...\n",
       "17840  70.0    0        7                       0         1\n",
       "42961  35.0    0        2                       0         1\n",
       "18828  54.5    0       15                       0         0\n",
       "67938  70.0    0       26                       1         0\n",
       "74048  61.0    1        2                       0         1\n",
       "\n",
       "[337 rows x 5 columns]"
      ]
     },
     "execution_count": 25,
     "metadata": {},
     "output_type": "execute_result"
    }
   ],
   "source": [
    "x_test"
   ]
  },
  {
   "cell_type": "code",
   "execution_count": 26,
   "metadata": {},
   "outputs": [
    {
     "data": {
      "text/plain": [
       "66115    0\n",
       "42184    1\n",
       "83597    0\n",
       "4556     1\n",
       "71973    1\n",
       "        ..\n",
       "17840    1\n",
       "42961    1\n",
       "18828    0\n",
       "67938    0\n",
       "74048    1\n",
       "Name: que_paso, Length: 337, dtype: int64"
      ]
     },
     "execution_count": 26,
     "metadata": {},
     "output_type": "execute_result"
    }
   ],
   "source": [
    "x_test['que_paso']"
   ]
  },
  {
   "cell_type": "code",
   "execution_count": 27,
   "metadata": {},
   "outputs": [],
   "source": [
    "y_test = x_test['que_paso']\n",
    "x_test = x_test.drop('que_paso', axis = 1)"
   ]
  },
  {
   "cell_type": "code",
   "execution_count": 28,
   "metadata": {},
   "outputs": [
    {
     "data": {
      "text/plain": [
       "0.8456973293768546"
      ]
     },
     "execution_count": 28,
     "metadata": {},
     "output_type": "execute_result"
    }
   ],
   "source": [
    "clf1.predict(x_test)\n",
    "clf1.score(x_test, y_test)"
   ]
  },
  {
   "cell_type": "code",
   "execution_count": 29,
   "metadata": {},
   "outputs": [],
   "source": [
    "#clf1.predict_proba(x_test)"
   ]
  },
  {
   "cell_type": "markdown",
   "metadata": {},
   "source": [
    "#### Testing different Solvers"
   ]
  },
  {
   "cell_type": "markdown",
   "metadata": {},
   "source": [
    " For small datasets, ‘liblinear’ is a good choice, whereas ‘sag’ and ‘saga’ are faster for large ones.\n",
    "\n",
    "For multiclass problems, only ‘newton-cg’, ‘sag’, ‘saga’ and ‘lbfgs’ handle multinomial loss; ‘liblinear’ is limited to one-versus-rest schemes.\n",
    "\n",
    "‘newton-cg’, ‘lbfgs’, ‘sag’ and ‘saga’ handle L2 or no penalty\n",
    "\n",
    "‘liblinear’ and ‘saga’ also handle L1 penalty\n",
    "\n",
    "‘saga’ also supports ‘elasticnet’ penalty\n",
    "\n",
    "‘liblinear’ does not support setting penalty='none'\n",
    "\n",
    "Note that ‘sag’ and ‘saga’ fast convergence is only guaranteed on features with approximately the same scale. You can preprocess the data with a scaler from sklearn.preprocessing."
   ]
  },
  {
   "cell_type": "code",
   "execution_count": 30,
   "metadata": {},
   "outputs": [],
   "source": [
    "testing = 0\n",
    "scores = []\n",
    "while testing < 300:\n",
    "    x_train, x_test, y_train, y_test = train_test_split(xtrain, ytrain, test_size = 0.3)\n",
    "    y_train = x_train['que_paso']\n",
    "    x_train = x_train.drop('que_paso', axis = 1)\n",
    "    clf1 = LogisticRegression(solver = 'liblinear').fit(x_train,y_train)\n",
    "    y_test = x_test['que_paso']\n",
    "    x_test = x_test.drop('que_paso', axis = 1)\n",
    "    clf1.predict(x_test)\n",
    "    scores.append(clf1.score(x_test, y_test))\n",
    "    testing +=1"
   ]
  },
  {
   "cell_type": "code",
   "execution_count": 31,
   "metadata": {},
   "outputs": [
    {
     "data": {
      "text/plain": [
       "0.8554125412541254"
      ]
     },
     "execution_count": 31,
     "metadata": {},
     "output_type": "execute_result"
    }
   ],
   "source": [
    "import statistics\n",
    "statistics.mean(scores) "
   ]
  },
  {
   "cell_type": "code",
   "execution_count": 32,
   "metadata": {},
   "outputs": [],
   "source": [
    "testing = 0\n",
    "scores = []\n",
    "while testing < 300:\n",
    "    x_train, x_test, y_train, y_test = train_test_split(xtrain, ytrain, test_size = 0.3)\n",
    "    y_train = x_train['que_paso']\n",
    "    x_train = x_train.drop('que_paso', axis = 1)\n",
    "    clf1 = LogisticRegression(solver = 'newton-cg').fit(x_train,y_train)\n",
    "    y_test = x_test['que_paso']\n",
    "    x_test = x_test.drop('que_paso', axis = 1)\n",
    "    clf1.predict(x_test)\n",
    "    scores.append(clf1.score(x_test, y_test))\n",
    "    testing +=1"
   ]
  },
  {
   "cell_type": "code",
   "execution_count": 33,
   "metadata": {},
   "outputs": [
    {
     "data": {
      "text/plain": [
       "0.8534323432343234"
      ]
     },
     "execution_count": 33,
     "metadata": {},
     "output_type": "execute_result"
    }
   ],
   "source": [
    "import statistics\n",
    "statistics.mean(scores)"
   ]
  },
  {
   "cell_type": "code",
   "execution_count": 34,
   "metadata": {},
   "outputs": [],
   "source": [
    "testing = 0\n",
    "scores = []\n",
    "while testing < 300:\n",
    "    x_train, x_test, y_train, y_test = train_test_split(xtrain, ytrain, test_size = 0.3)\n",
    "    y_train = x_train['que_paso']\n",
    "    x_train = x_train.drop('que_paso', axis = 1)\n",
    "    clf1cv = LogisticRegressionCV(cv= 5, solver = 'liblinear').fit(x_train,y_train)\n",
    "    y_test = x_test['que_paso']\n",
    "    x_test = x_test.drop('que_paso', axis = 1)\n",
    "    clf1.predict(x_test)\n",
    "    scores.append(clf1.score(x_test, y_test))\n",
    "    testing +=1"
   ]
  },
  {
   "cell_type": "code",
   "execution_count": 35,
   "metadata": {},
   "outputs": [
    {
     "data": {
      "text/plain": [
       "0.8556765676567657"
      ]
     },
     "execution_count": 35,
     "metadata": {},
     "output_type": "execute_result"
    }
   ],
   "source": [
    "statistics.mean(scores)"
   ]
  },
  {
   "cell_type": "code",
   "execution_count": 36,
   "metadata": {},
   "outputs": [],
   "source": [
    "# testing = 0\n",
    "# scores = []\n",
    "# while testing < 300:\n",
    "#     x_train, x_test, y_train, y_test = train_test_split(xtrain, ytrain, test_size = 0.3)\n",
    "#     y_train = x_train['que_paso']\n",
    "#     x_train = x_train.drop('que_paso', axis = 1)\n",
    "#     clf1 = LogisticRegression(solver = 'newton-cg').fit(x_train,y_train)\n",
    "#     y_test = x_test['que_paso']\n",
    "#     x_test = x_test.drop('que_paso', axis = 1)\n",
    "#     clf1.predict(x_test)\n",
    "#     scores.append(clf1.score(x_test, y_test))\n",
    "#     testing +=1"
   ]
  },
  {
   "cell_type": "code",
   "execution_count": 37,
   "metadata": {},
   "outputs": [],
   "source": [
    "# statistics.mean(scores)"
   ]
  },
  {
   "cell_type": "code",
   "execution_count": 38,
   "metadata": {},
   "outputs": [],
   "source": [
    "# testing = 0\n",
    "# scores = []\n",
    "# while testing < 300:\n",
    "#     x_train, x_test, y_train, y_test = train_test_split(xtrain, ytrain, test_size = 0.3)\n",
    "#     y_train = x_train['que_paso']\n",
    "#     x_train = x_train.drop('que_paso', axis = 1)\n",
    "#     clf1 = LogisticRegression(solver = 'saga').fit(x_train,y_train)\n",
    "#     y_test = x_test['que_paso']\n",
    "#     x_test = x_test.drop('que_paso', axis = 1)\n",
    "#     clf1.predict(x_test)\n",
    "#     scores.append(clf1.score(x_test, y_test))\n",
    "#     testing +=1"
   ]
  },
  {
   "cell_type": "code",
   "execution_count": 39,
   "metadata": {},
   "outputs": [],
   "source": [
    "#statistics.mean(scores)"
   ]
  },
  {
   "cell_type": "code",
   "execution_count": null,
   "metadata": {},
   "outputs": [],
   "source": []
  },
  {
   "cell_type": "code",
   "execution_count": 40,
   "metadata": {},
   "outputs": [],
   "source": [
    "import numpy as np\n",
    "from sklearn.linear_model import LogisticRegression\n",
    "from sklearn.datasets import make_classification\n",
    "import matplotlib.pyplot as plt\n",
    "import seaborn as sns\n",
    "sns.set(style=\"white\")"
   ]
  },
  {
   "cell_type": "code",
   "execution_count": 41,
   "metadata": {},
   "outputs": [],
   "source": [
    "clf1 = LogisticRegression(solver = 'newton-cg').fit(x_train,y_train)\n",
    "\n",
    "y_pred = clf1.predict(x_test)\n",
    "y_prob = clf1.predict_proba(x_test)"
   ]
  },
  {
   "cell_type": "code",
   "execution_count": 42,
   "metadata": {},
   "outputs": [],
   "source": [
    "# # define dataset\n",
    "# X, y = make_classification(n_samples=1000, n_features=10, n_informative=5, n_redundant=5, random_state=1)\n",
    "# # define the model\n",
    "# model = LogisticRegression()\n",
    "# # fit the model\n",
    "# model.fit(X, y)\n",
    "# # get importance\n",
    "# importance = model.coef_[0]\n",
    "# # summarize feature importance\n",
    "# for i,v in enumerate(importance):\n",
    "# \tprint('Feature: %0d, Score: %.5f' % (i,v))\n",
    "# # plot feature importance\n",
    "# pyplot.bar([x for x in range(len(importance))], importance)\n",
    "# pyplot.show()\n",
    "var = ['Age', 'Sex','Country', 'Chronic Disease']"
   ]
  },
  {
   "cell_type": "code",
   "execution_count": 43,
   "metadata": {},
   "outputs": [
    {
     "name": "stdout",
     "output_type": "stream",
     "text": [
      "Feature: 0, Score: -0.08439\n",
      "Feature: 1, Score: 0.55463\n",
      "Feature: 2, Score: -0.05144\n",
      "Feature: 3, Score: -2.11693\n"
     ]
    },
    {
     "data": {
      "image/png": "[encoded data removed]",
      "text/plain": [
       "<Figure size 504x360 with 1 Axes>"
      ]
     },
     "metadata": {},
     "output_type": "display_data"
    }
   ],
   "source": [
    "importance = clf1.coef_[0]\n",
    "# summarize feature importance\n",
    "for i,v in enumerate(importance):\n",
    "\tprint('Feature: %0d, Score: %.5f' % (i,v))\n",
    "# plot feature importance\n",
    "fig, ax = plt.subplots(figsize = (7,5))\n",
    "y_pos = np.arange(len(var))\n",
    "\n",
    "#ax.barh(y_pos, var_imp, align='center')\n",
    "ax.barh([x for x in range(len(importance))], importance)\n",
    "ax.set_yticks(y_pos)\n",
    "ax.set_yticklabels(var)\n",
    "ax.invert_yaxis() \n",
    "ax.set_xlabel('Importance', fontsize = 10)\n",
    "ax.set_title('Feature Importance', fontsize = 12)\n",
    "\n",
    "plt.show()"
   ]
  },
  {
   "cell_type": "markdown",
   "metadata": {},
   "source": [
    "The positive scores indicate a feature that predicts class 1, whereas the negative scores indicate a feature that predicts class 0."
   ]
  },
  {
   "cell_type": "code",
   "execution_count": null,
   "metadata": {},
   "outputs": [],
   "source": []
  },
  {
   "cell_type": "code",
   "execution_count": 44,
   "metadata": {},
   "outputs": [],
   "source": [
    "from sklearn.decomposition import PCA"
   ]
  },
  {
   "cell_type": "code",
   "execution_count": 45,
   "metadata": {},
   "outputs": [
    {
     "name": "stdout",
     "output_type": "stream",
     "text": [
      "[0.82865948 0.17067846]\n",
      "           PCA 1      PCA 2  target\n",
      "92589  29.082858  -8.048488       1\n",
      "83095 -21.667235   3.180752       0\n",
      "75856  -4.833764  -4.227945       1\n",
      "72182  33.709888  17.847259       1\n",
      "56997 -23.973295  -9.768139       0\n",
      "...          ...        ...     ...\n",
      "41740  10.064773  -8.589165       1\n",
      "72181  15.715649  18.282129       1\n",
      "82808  11.329659   2.382472       1\n",
      "90895  33.468231   7.850188       1\n",
      "82258  20.012624 -10.831155       1\n",
      "\n",
      "[471 rows x 3 columns]\n"
     ]
    }
   ],
   "source": [
    "pca = PCA(n_components=2)\n",
    "principalcomponents = pca.fit_transform(x_train)\n",
    "print(pca.explained_variance_ratio_)\n",
    "\n",
    "principle_df = pd.DataFrame({'PCA 1': principalcomponents[:,0], 'PCA 2': principalcomponents[:,1], 'target':y_train})\n",
    "#final_df = principle_df\n",
    "#principle_df[\"target\"] = y_train\n",
    "\n",
    "print(principle_df)"
   ]
  },
  {
   "cell_type": "code",
   "execution_count": null,
   "metadata": {},
   "outputs": [],
   "source": []
  },
  {
   "cell_type": "code",
   "execution_count": 46,
   "metadata": {},
   "outputs": [
    {
     "data": {
      "image/png": "[encoded data removed]",
      "text/plain": [
       "<Figure size 576x432 with 1 Axes>"
      ]
     },
     "metadata": {},
     "output_type": "display_data"
    }
   ],
   "source": [
    "fig = plt.figure(figsize=(8, 6))\n",
    "ax =  fig.add_subplot(1,1,1)\n",
    "ax.set_xlabel(\"Principal Compenent 1\", fontsize = 15)\n",
    "ax.set_ylabel(\"Principal Compenent 2\", fontsize = 15)\n",
    "ax.set_title(\"2 Component PCA\", fontsize = 20)\n",
    "\n",
    "targets = [1,0]\n",
    "colors = ['g', 'r']\n",
    "for target, color in zip(targets, colors):\n",
    "    indicesToKeep = y_train == target\n",
    "    ax.scatter(principle_df.loc[indicesToKeep, \"PCA 1\"],\n",
    "              principle_df.loc[indicesToKeep, \"PCA 2\"],\n",
    "              c = color,\n",
    "              s = 50)\n",
    "\n",
    "ax.legend(targets)\n",
    "ax.grid()"
   ]
  },
  {
   "cell_type": "code",
   "execution_count": null,
   "metadata": {},
   "outputs": [],
   "source": []
  }
 ],
 "metadata": {
  "kernelspec": {
   "display_name": "Python 3",
   "language": "python",
   "name": "python3"
  },
  "language_info": {
   "codemirror_mode": {
    "name": "ipython",
    "version": 3
   },
   "file_extension": ".py",
   "mimetype": "text/x-python",
   "name": "python",
   "nbconvert_exporter": "python",
   "pygments_lexer": "ipython3",
   "version": "3.6.8"
  }
 },
 "nbformat": 4,
 "nbformat_minor": 4
}

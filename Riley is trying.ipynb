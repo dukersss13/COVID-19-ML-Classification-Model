{
 "cells": [
  {
   "cell_type": "code",
   "execution_count": 27,
   "metadata": {},
   "outputs": [],
   "source": [
    "import numpy as np\n",
    "import matplotlib.pyplot as plt\n",
    "import pandas as pd\n",
    "%matplotlib inline"
   ]
  },
  {
   "cell_type": "code",
   "execution_count": 28,
   "metadata": {},
   "outputs": [],
   "source": [
    "train = pd.read_csv(\"covid2train.csv\", index_col = 0)\n",
    "features = ['age', 'sex', 'country', 'chronic_disease_binary', 'que_paso']\n",
    "xtrain = train[features]\n",
    "\n",
    "def clean(train):\n",
    "    features = ['age', 'sex', 'country', 'chronic_disease_binary', 'que_paso']\n",
    "    xtrain = train[features]\n",
    "\n",
    "# Dropping NA's from only 'sex' + 'country'    \n",
    "    subset = xtrain.dropna(subset = ['age','sex','country'])\n",
    "    countries = xtrain['country'].drop_duplicates().dropna()\n",
    "\n",
    "# Replacing the age ranges with their means    \n",
    "    mp = {'20-29': np.mean([20,29]), '40-49': np.mean([40,49]),'50-59': np.mean([50,59]),\n",
    "          '60-69': np.mean([60,69]), '70-79': np.mean([70,79]),\n",
    "          '80-89': np.mean([80,89]),'90-99': np.mean([90,99]), '80-': 80}\n",
    "    \n",
    "# Dictionary replacing countries with numerical values\n",
    "    mp2 = {}\n",
    "    key = np.arange(len(countries) + 1)\n",
    "    for i,j in zip(countries,key):\n",
    "        val = {i:j}\n",
    "        mp2.update(val)\n",
    "        \n",
    "    mp3 = {'male': 0, 'female': 1}\n",
    "        \n",
    "# Updating the training data with new values\n",
    "    subset = subset.replace(mp).replace(mp2).replace(mp3)\n",
    "    subset['chronic_disease_binary'] = subset['chronic_disease_binary']*1\n",
    "    subset['age'] = subset['age'].astype(float)\n",
    "    \n",
    "    xtrain = subset\n",
    "    ytrain = subset['que_paso']\n",
    "    return xtrain, ytrain, mp2"
   ]
  },
  {
   "cell_type": "code",
   "execution_count": 30,
   "metadata": {},
   "outputs": [],
   "source": [
    "xtrain, ytrain, mp2 = clean(train)"
   ]
  },
  {
   "cell_type": "code",
   "execution_count": 31,
   "metadata": {},
   "outputs": [
    {
     "data": {
      "image/png": "[encoded data removed]",
      "text/plain": [
       "<Figure size 576x360 with 1 Axes>"
      ]
     },
     "metadata": {
      "needs_background": "light"
     },
     "output_type": "display_data"
    }
   ],
   "source": [
    "age_death = xtrain['que_paso'] == 0\n",
    "age_rec = xtrain['que_paso'] == 1\n",
    "\n",
    "xdeath = xtrain[age_death]\n",
    "xrec = xtrain[age_rec]\n",
    "\n",
    "age1 = xdeath['age']\n",
    "age2 = xrec['age']\n",
    "\n",
    "data = [age1, age2]\n",
    "fig, ax = plt.subplots(figsize = (8,5))\n",
    "ax.set_title('Age vs. Outcome', fontsize = 13)\n",
    "\n",
    "ax.boxplot(data, labels = ['Non-Recovered', 'Recovered'])\n",
    "ax.set_ylabel(\"Age\", fontsize = 12)\n",
    "plt.show()"
   ]
  },
  {
   "cell_type": "code",
   "execution_count": 32,
   "metadata": {},
   "outputs": [
    {
     "data": {
      "image/png": "[encoded data removed]",
      "text/plain": [
       "<Figure size 432x288 with 1 Axes>"
      ]
     },
     "metadata": {
      "needs_background": "light"
     },
     "output_type": "display_data"
    }
   ],
   "source": [
    "xtrain2 = xtrain.drop('que_paso', axis = 1)\n",
    "\n",
    "from sklearn.ensemble import RandomForestClassifier \n",
    "\n",
    "clf =  RandomForestClassifier(n_estimators = 100,\n",
    "                           n_jobs = -1,\n",
    "                           oob_score = True,\n",
    "                           bootstrap = True, random_state=42)\n",
    "\n",
    "clf.fit(xtrain2, ytrain)\n",
    "\n",
    "var_imp = clf.feature_importances_\n",
    "var = ['Age', 'Sex', 'Country', 'Chronic Disease']\n",
    "\n",
    "fig, ax = plt.subplots(figsize = (6,4))\n",
    "\n",
    "y_pos = np.arange(len(var))\n",
    "\n",
    "ax.barh(y_pos, var_imp, align='center')\n",
    "ax.set_yticks(y_pos)\n",
    "ax.set_yticklabels(var)\n",
    "ax.invert_yaxis() \n",
    "ax.set_xlabel('Importance', fontsize = 10)\n",
    "ax.set_title('Feature Importance', fontsize = 12)\n",
    "\n",
    "plt.show()\n",
    "\n",
    "from sklearn.model_selection import train_test_split\n",
    "from sklearn import metrics\n",
    "from sklearn.metrics import accuracy_score\n",
    "from sklearn.metrics import confusion_matrix\n",
    "\n",
    "from sklearn.preprocessing import StandardScaler\n",
    "from sklearn.svm import SVC, SVR\n",
    "from sklearn.linear_model import LogisticRegression\n",
    "plt.style.use('default')\n",
    "\n",
    "clfs = {\"SVM\": SVC(C = 50, kernel = 'rbf', gamma = 'auto', probability = True),\n",
    "    \"Random Forest\": RandomForestClassifier(n_estimators = 500,\n",
    "                           n_jobs = -1, min_samples_leaf = 2,\n",
    "                           bootstrap = True, random_state = 42),\n",
    "    \"Logistic Regression\": LogisticRegression(solver = 'saga',\n",
    "                                             random_state = 42)}"
   ]
  },
  {
   "cell_type": "code",
   "execution_count": 50,
   "metadata": {},
   "outputs": [],
   "source": [
    "from sklearn.decomposition import PCA\n",
    "\n",
    "def classifier(data, clfs_dict):\n",
    "    selection = 0\n",
    "    X = data.drop([\"que_paso\"], axis = 1)\n",
    "    y = data.iloc[:,-1] \n",
    "    xtrain, xtest, ytrain, ytest = train_test_split(X, y, test_size = 0.5)\n",
    "    scaler = StandardScaler()\n",
    "    scaler.fit(xtrain)\n",
    "    scaler.fit(xtest)\n",
    "    xtrain = scaler.transform(xtrain)\n",
    "    xtest = scaler.transform(xtest)\n",
    "#     while selection != 4:\n",
    "#         print(\"1. SVM\")\n",
    "#         print(\"2. Random Forest\")\n",
    "#         print(\"3. Logistic Regression\")\n",
    "#         print(\"4. Quit\")\n",
    "#         selection = int(input(\"Choose your ML method: \"))\n",
    "        \n",
    "#         if selection == 4:\n",
    "#             print(\"Goodbye!\")\n",
    "#             break\n",
    "            \n",
    "#         else:\n",
    "\n",
    "    ML = list(clfs_dict.values())\n",
    "    names = list(clfs_dict.keys())\n",
    "        \n",
    "    for i in ML:\n",
    "        clf = i.fit(xtrain,ytrain)\n",
    "        yprob = clf.predict_proba(xtest)[::,1]\n",
    "        ypred = clf.predict(xtest)\n",
    "        fpr, tpr, thresholds = metrics.roc_curve(ytest, yprob)\n",
    "        auc = round(metrics.auc(fpr,tpr),4)\n",
    "        acc = round(accuracy_score(ytest, ypred),4)\n",
    "        cm = confusion_matrix(ytest, ypred)\n",
    "        \n",
    "        print(\"The AUC for\", names[ML.index(i)], \"is\", auc) \n",
    "        print(\"The accuracy score for\", names[ML.index(i)], \"is\", acc)\n",
    "        print(\"The confusion matrix for\", names[ML.index(i)], \"is\", cm)\n",
    "        \n",
    "        plt.figure()\n",
    "        plt.plot(fpr, tpr, lw = 1, label = names[ML.index(i)]) # + '. AUC: '+ str(auc))\n",
    "        plt.plot([0, 1], [0, 1], color = 'navy', lw = 1, linestyle = '--')\n",
    "        plt.xlabel(\"False Positive Rate\")\n",
    "        plt.ylabel(\"True Positive Rate\")\n",
    "        plt.legend()\n",
    "        plt.title(\"ROC Curve\")"
   ]
  },
  {
   "cell_type": "code",
   "execution_count": 51,
   "metadata": {},
   "outputs": [],
   "source": [
    "classifier(xtrain, clfs)"
   ]
  }
 ],
 "metadata": {
  "kernelspec": {
   "display_name": "Python 3",
   "language": "python",
   "name": "python3"
  },
  "language_info": {
   "codemirror_mode": {
    "name": "ipython",
    "version": 3
   },
   "file_extension": ".py",
   "mimetype": "text/x-python",
   "name": "python",
   "nbconvert_exporter": "python",
   "pygments_lexer": "ipython3",
   "version": "3.7.4"
  }
 },
 "nbformat": 4,
 "nbformat_minor": 2
}

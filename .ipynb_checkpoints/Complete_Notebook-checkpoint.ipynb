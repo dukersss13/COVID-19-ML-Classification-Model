{
 "cells": [
  {
   "cell_type": "markdown",
   "metadata": {},
   "source": [
    "# Duc Le"
   ]
  },
  {
   "cell_type": "markdown",
   "metadata": {},
   "source": [
    "Data Preprocessing\n",
    "    1. Removal of NA's.\n",
    "    2. Replace age ranges with their means.\n",
    "    3. Feature selection."
   ]
  },
  {
   "cell_type": "code",
   "execution_count": 1,
   "metadata": {},
   "outputs": [],
   "source": [
    "import numpy as np\n",
    "import matplotlib.pyplot as plt\n",
    "import pandas as pd\n",
    "from mpl_toolkits.mplot3d import Axes3D \n",
    "from matplotlib.colors import ListedColormap\n",
    "%matplotlib inline"
   ]
  },
  {
   "cell_type": "code",
   "execution_count": 2,
   "metadata": {},
   "outputs": [],
   "source": [
    "from sklearn.model_selection import train_test_split\n",
    "from sklearn import metrics\n",
    "from sklearn.metrics import accuracy_score\n",
    "from sklearn.metrics import confusion_matrix\n",
    "from sklearn.metrics import plot_confusion_matrix\n",
    "\n",
    "from sklearn.preprocessing import StandardScaler\n",
    "from sklearn.svm import SVC\n",
    "from sklearn.linear_model import LogisticRegression\n",
    "from sklearn.ensemble import RandomForestClassifier, AdaBoostClassifier\n",
    "from sklearn.naive_bayes import GaussianNB\n",
    "\n",
    "from sklearn.decomposition import PCA"
   ]
  },
  {
   "cell_type": "code",
   "execution_count": 3,
   "metadata": {},
   "outputs": [],
   "source": [
    "# Dataset URL: https://raw.githubusercontent.com/beoutbreakprepared/nCoV2019/master/latest_data/latestdata.csv"
   ]
  },
  {
   "cell_type": "code",
   "execution_count": 4,
   "metadata": {},
   "outputs": [],
   "source": [
    "train = pd.read_csv(\"covid2train.csv\", index_col = 0)"
   ]
  },
  {
   "cell_type": "code",
   "execution_count": 5,
   "metadata": {},
   "outputs": [],
   "source": [
    "def clean(train):\n",
    "    features = ['age', 'sex', 'country', 'chronic_disease_binary', 'que_paso']\n",
    "    xtrain = train[features]\n",
    "\n",
    "# Dropping NA's from only 'sex' + 'country'    \n",
    "    subset = xtrain.dropna(subset = ['age','sex','country'])\n",
    "    countries = xtrain['country'].drop_duplicates().dropna()\n",
    "\n",
    "# Replacing the age ranges with their means    \n",
    "    mp = {'20-29': np.mean([20,29]), '40-49': np.mean([40,49]),'50-59': np.mean([50,59]),\n",
    "          '60-69': np.mean([60,69]), '70-79': np.mean([70,79]),\n",
    "          '80-89': np.mean([80,89]),'90-99': np.mean([90,99]), '80-': 80}\n",
    "    \n",
    "# Dictionary replacing countries with numerical values\n",
    "    mp2 = {}\n",
    "    key = np.arange(len(countries) + 1)\n",
    "    for i,j in zip(countries,key):\n",
    "        val = {i:j}\n",
    "        mp2.update(val)\n",
    "        \n",
    "    mp3 = {'male': 0, 'female': 1}\n",
    "        \n",
    "# Updating the training data with new values\n",
    "    subset = subset.replace(mp).replace(mp2).replace(mp3)\n",
    "    subset['chronic_disease_binary'] = subset['chronic_disease_binary']*1\n",
    "    subset['age'] = subset['age'].astype(float)\n",
    "\n",
    "    ytrain = subset['que_paso']\n",
    "    return subset, ytrain"
   ]
  },
  {
   "cell_type": "code",
   "execution_count": 6,
   "metadata": {},
   "outputs": [],
   "source": [
    "data, ytrain = clean(train)"
   ]
  },
  {
   "cell_type": "markdown",
   "metadata": {},
   "source": [
    "Age vs. Outcome Plot"
   ]
  },
  {
   "cell_type": "code",
   "execution_count": 7,
   "metadata": {},
   "outputs": [
    {
     "data": {
      "image/png": "[encoded data removed]",
      "text/plain": [
       "<Figure size 576x360 with 1 Axes>"
      ]
     },
     "metadata": {
      "needs_background": "light"
     },
     "output_type": "display_data"
    }
   ],
   "source": [
    "age_death = data['que_paso'] == 0\n",
    "age_rec = data['que_paso'] == 1\n",
    "\n",
    "xdeath = data[age_death]\n",
    "xrec = data[age_rec]\n",
    "\n",
    "age1 = xdeath['age']\n",
    "age2 = xrec['age']\n",
    "\n",
    "data2 = [age1, age2]\n",
    "fig, ax = plt.subplots(figsize = (8,5))\n",
    "ax.set_title('Age vs. Outcome', fontsize = 13)\n",
    "\n",
    "ax.boxplot(data2, labels = ['Non-Recovered', 'Recovered'])\n",
    "ax.set_ylabel(\"Age\", fontsize = 12)\n",
    "plt.show()"
   ]
  },
  {
   "cell_type": "code",
   "execution_count": 8,
   "metadata": {},
   "outputs": [],
   "source": [
    "xtrain = data.drop('que_paso', axis = 1)"
   ]
  },
  {
   "cell_type": "markdown",
   "metadata": {},
   "source": [
    "List of ML algorithms to be attempted"
   ]
  },
  {
   "cell_type": "code",
   "execution_count": 9,
   "metadata": {},
   "outputs": [],
   "source": [
    "clfs = {\"AdaBoost\": AdaBoostClassifier(random_state = 42),\n",
    "    \"Naive Bayes\": GaussianNB(),\n",
    "    \"Random Forest\": RandomForestClassifier(n_estimators = 500,\n",
    "                           n_jobs = -1, min_samples_leaf = 2,\n",
    "                           bootstrap = True, random_state = 42),\n",
    "    \"Logistic Regression\": LogisticRegression(solver = 'saga',\n",
    "                                             random_state = 42)}\n",
    "ML = list(clfs.values())\n",
    "names = list(clfs.keys())\n",
    "\n",
    "clf = ML[2].fit(xtrain, ytrain)\n",
    "\n",
    "var_imp = clf.feature_importances_\n",
    "var = ['Age', 'Sex', 'Country', 'Chronic Disease']"
   ]
  },
  {
   "cell_type": "markdown",
   "metadata": {},
   "source": [
    "Feature Importance Plot determined by Random Forest"
   ]
  },
  {
   "cell_type": "code",
   "execution_count": 10,
   "metadata": {},
   "outputs": [
    {
     "data": {
      "image/png": "[encoded data removed]",
      "text/plain": [
       "<Figure size 504x360 with 1 Axes>"
      ]
     },
     "metadata": {
      "needs_background": "light"
     },
     "output_type": "display_data"
    }
   ],
   "source": [
    "fig, ax = plt.subplots(figsize = (7,5))\n",
    "\n",
    "y_pos = np.arange(len(var))\n",
    "\n",
    "ax.barh(y_pos, var_imp, align = 'center')\n",
    "ax.set_yticks(y_pos)\n",
    "ax.set_yticklabels(var)\n",
    "ax.invert_yaxis() \n",
    "ax.set_xlabel('Importance', fontsize = 10)\n",
    "ax.set_title('Feature Importance by Random Forest', fontsize = 12)\n",
    "\n",
    "plt.show()"
   ]
  },
  {
   "cell_type": "code",
   "execution_count": 11,
   "metadata": {},
   "outputs": [],
   "source": [
    "def confusion_plot(clfs_dict, xtest, ytest):\n",
    "    ML = list(clfs_dict.values())\n",
    "    names = list(clfs_dict.keys())\n",
    "    \n",
    "    for i in ML:\n",
    "        disp = plot_confusion_matrix(i, xtest, ytest,\n",
    "                                     display_labels = [\"Not Recovered\", \"Recovered\"],\n",
    "                                     cmap = 'Blues',\n",
    "                                     normalize = 'true')\n",
    "        disp.ax_.set_title(\"Confusion Matrix: \" + names[ML.index(i)])"
   ]
  },
  {
   "cell_type": "code",
   "execution_count": 12,
   "metadata": {},
   "outputs": [],
   "source": [
    "def classifier(data, clfs_dict):\n",
    "    selection = 0\n",
    "    X = data.drop([\"que_paso\"], axis = 1)\n",
    "    y = data.iloc[:,-1] \n",
    "    xtrain, xtest, ytrain, ytest = train_test_split(X, y, test_size = 0.5)\n",
    "    scaler = StandardScaler()\n",
    "    scaler.fit(xtrain)\n",
    "    scaler.fit(xtest)\n",
    "    xtrain = scaler.transform(xtrain)\n",
    "    xtest = scaler.transform(xtest)\n",
    "\n",
    "    ML = list(clfs_dict.values())\n",
    "    names = list(clfs_dict.keys())\n",
    "    plt.figure(figsize = (7,5))\n",
    "    \n",
    "    yprobList = []\n",
    "    for i in ML:\n",
    "        clf = i.fit(xtrain,ytrain)\n",
    "        yprob = clf.predict_proba(xtest)[::,1]\n",
    "        ypred = clf.predict(xtest)\n",
    "        fpr, tpr, thresholds = metrics.roc_curve(ytest, yprob)\n",
    "        auc = round(metrics.auc(fpr,tpr),4)\n",
    "        acc = round(accuracy_score(ytest, ypred),4)\n",
    "        \n",
    "        print(\"\\nThe AUC for\", names[ML.index(i)], \"is\", auc) \n",
    "        print(\"The accuracy score for\", names[ML.index(i)], \"is\", acc)\n",
    "        \n",
    "        plt.plot(fpr, tpr, lw = 1, label = names[ML.index(i)]) # + '. AUC: '+ str(auc))\n",
    "        plt.plot([0, 1], [0, 1], color = 'navy', lw = 1, linestyle = '--')\n",
    "        plt.xlabel(\"False Positive Rate\", fontsize = 11)\n",
    "        plt.ylabel(\"True Positive Rate\", fontsize = 11)\n",
    "        plt.legend()\n",
    "        plt.title(\"ROC Curve\", fontsize = 13)\n",
    "        yprobList.append(yprob)\n",
    "    return xtest, ytest, yprobList"
   ]
  },
  {
   "cell_type": "markdown",
   "metadata": {},
   "source": [
    "Comparisons of ROC + AUC between Different Algorithms"
   ]
  },
  {
   "cell_type": "code",
   "execution_count": 13,
   "metadata": {},
   "outputs": [
    {
     "name": "stdout",
     "output_type": "stream",
     "text": [
      "\n",
      "The AUC for AdaBoost is 0.9487\n",
      "The accuracy score for AdaBoost is 0.8902\n",
      "\n",
      "The AUC for Naive Bayes is 0.907\n",
      "The accuracy score for Naive Bayes is 0.8516\n",
      "\n",
      "The AUC for Random Forest is 0.9428\n",
      "The accuracy score for Random Forest is 0.8635\n",
      "\n",
      "The AUC for Logistic Regression is 0.9134\n",
      "The accuracy score for Logistic Regression is 0.8635\n"
     ]
    },
    {
     "data": {
      "image/png": "[encoded data removed]",
      "text/plain": [
       "<Figure size 504x360 with 1 Axes>"
      ]
     },
     "metadata": {
      "needs_background": "light"
     },
     "output_type": "display_data"
    }
   ],
   "source": [
    "xtest, ytest, yprobList = classifier(data, clfs)"
   ]
  },
  {
   "cell_type": "code",
   "execution_count": 14,
   "metadata": {},
   "outputs": [],
   "source": [
    "prob_df = pd.DataFrame({\"AdaBoost\": yprobList[0], \"Naive Bayes\": yprobList[1],\n",
    "                       \"Random Forest\": yprobList[2], \"Logistic Regression\": yprobList[3]})"
   ]
  },
  {
   "cell_type": "markdown",
   "metadata": {},
   "source": [
    "Probability of Patient Recovering by Different Algorithms"
   ]
  },
  {
   "cell_type": "code",
   "execution_count": 15,
   "metadata": {},
   "outputs": [
    {
     "data": {
      "text/html": [
       "<div>\n",
       "<style scoped>\n",
       "    .dataframe tbody tr th:only-of-type {\n",
       "        vertical-align: middle;\n",
       "    }\n",
       "\n",
       "    .dataframe tbody tr th {\n",
       "        vertical-align: top;\n",
       "    }\n",
       "\n",
       "    .dataframe thead th {\n",
       "        text-align: right;\n",
       "    }\n",
       "</style>\n",
       "<table border=\"1\" class=\"dataframe\">\n",
       "  <thead>\n",
       "    <tr style=\"text-align: right;\">\n",
       "      <th></th>\n",
       "      <th>AdaBoost</th>\n",
       "      <th>Naive Bayes</th>\n",
       "      <th>Random Forest</th>\n",
       "      <th>Logistic Regression</th>\n",
       "    </tr>\n",
       "  </thead>\n",
       "  <tbody>\n",
       "    <tr>\n",
       "      <td>0</td>\n",
       "      <td>0.455100</td>\n",
       "      <td>0.482192</td>\n",
       "      <td>0.059880</td>\n",
       "      <td>0.185919</td>\n",
       "    </tr>\n",
       "    <tr>\n",
       "      <td>1</td>\n",
       "      <td>0.518623</td>\n",
       "      <td>0.877393</td>\n",
       "      <td>0.954269</td>\n",
       "      <td>0.793730</td>\n",
       "    </tr>\n",
       "    <tr>\n",
       "      <td>2</td>\n",
       "      <td>0.501413</td>\n",
       "      <td>0.643237</td>\n",
       "      <td>0.360196</td>\n",
       "      <td>0.510156</td>\n",
       "    </tr>\n",
       "    <tr>\n",
       "      <td>3</td>\n",
       "      <td>0.498818</td>\n",
       "      <td>0.643104</td>\n",
       "      <td>0.649115</td>\n",
       "      <td>0.347694</td>\n",
       "    </tr>\n",
       "    <tr>\n",
       "      <td>4</td>\n",
       "      <td>0.682831</td>\n",
       "      <td>0.999842</td>\n",
       "      <td>0.997610</td>\n",
       "      <td>0.996908</td>\n",
       "    </tr>\n",
       "    <tr>\n",
       "      <td>...</td>\n",
       "      <td>...</td>\n",
       "      <td>...</td>\n",
       "      <td>...</td>\n",
       "      <td>...</td>\n",
       "    </tr>\n",
       "    <tr>\n",
       "      <td>332</td>\n",
       "      <td>0.518783</td>\n",
       "      <td>0.994316</td>\n",
       "      <td>0.963279</td>\n",
       "      <td>0.974289</td>\n",
       "    </tr>\n",
       "    <tr>\n",
       "      <td>333</td>\n",
       "      <td>0.515345</td>\n",
       "      <td>0.903925</td>\n",
       "      <td>0.961870</td>\n",
       "      <td>0.750631</td>\n",
       "    </tr>\n",
       "    <tr>\n",
       "      <td>334</td>\n",
       "      <td>0.518335</td>\n",
       "      <td>0.994353</td>\n",
       "      <td>0.996001</td>\n",
       "      <td>0.973518</td>\n",
       "    </tr>\n",
       "    <tr>\n",
       "      <td>335</td>\n",
       "      <td>0.523943</td>\n",
       "      <td>0.953193</td>\n",
       "      <td>0.950363</td>\n",
       "      <td>0.896397</td>\n",
       "    </tr>\n",
       "    <tr>\n",
       "      <td>336</td>\n",
       "      <td>0.514886</td>\n",
       "      <td>0.911085</td>\n",
       "      <td>0.808844</td>\n",
       "      <td>0.831778</td>\n",
       "    </tr>\n",
       "  </tbody>\n",
       "</table>\n",
       "<p>337 rows × 4 columns</p>\n",
       "</div>"
      ],
      "text/plain": [
       "     AdaBoost  Naive Bayes  Random Forest  Logistic Regression\n",
       "0    0.455100     0.482192       0.059880             0.185919\n",
       "1    0.518623     0.877393       0.954269             0.793730\n",
       "2    0.501413     0.643237       0.360196             0.510156\n",
       "3    0.498818     0.643104       0.649115             0.347694\n",
       "4    0.682831     0.999842       0.997610             0.996908\n",
       "..        ...          ...            ...                  ...\n",
       "332  0.518783     0.994316       0.963279             0.974289\n",
       "333  0.515345     0.903925       0.961870             0.750631\n",
       "334  0.518335     0.994353       0.996001             0.973518\n",
       "335  0.523943     0.953193       0.950363             0.896397\n",
       "336  0.514886     0.911085       0.808844             0.831778\n",
       "\n",
       "[337 rows x 4 columns]"
      ]
     },
     "execution_count": 15,
     "metadata": {},
     "output_type": "execute_result"
    }
   ],
   "source": [
    "prob_df"
   ]
  },
  {
   "cell_type": "code",
   "execution_count": 16,
   "metadata": {},
   "outputs": [],
   "source": [
    "clf_RF = {\"Param 1\": RandomForestClassifier(n_estimators = 500,\n",
    "                           n_jobs = -1, min_samples_leaf = 1,\n",
    "                           bootstrap = True, random_state = 42),\n",
    "          \"Param 2\": RandomForestClassifier(n_estimators = 100, #changing n_estimators to 5\n",
    "                           n_jobs = -1, min_samples_leaf = 1,\n",
    "                           bootstrap = True, random_state = 42),\n",
    "          \"Param 3\": RandomForestClassifier(n_estimators = 500,\n",
    "                           n_jobs = -1, min_samples_leaf = 1,\n",
    "                           bootstrap = False, random_state = 42), #changing bootstrap to True\n",
    "          \"Param 4\": RandomForestClassifier(n_estimators = 500,\n",
    "                           n_jobs = -1, min_samples_leaf = 100,\n",
    "                           bootstrap = True, random_state = 42)}\n",
    "\n",
    "clf_LR = {\"Param1\": LogisticRegression(penalty = 'elasticnet', solver ='saga',l1_ratio=.5),\n",
    "          \"Param2\": LogisticRegression()}"
   ]
  },
  {
   "cell_type": "markdown",
   "metadata": {},
   "source": [
    "Comparisons of ROC + AUC between Different Hyperparameters"
   ]
  },
  {
   "cell_type": "code",
   "execution_count": 17,
   "metadata": {},
   "outputs": [
    {
     "name": "stdout",
     "output_type": "stream",
     "text": [
      "\n",
      "The AUC for Param 1 is 0.9235\n",
      "The accuracy score for Param 1 is 0.8457\n",
      "\n",
      "The AUC for Param 2 is 0.9196\n",
      "The accuracy score for Param 2 is 0.8487\n",
      "\n",
      "The AUC for Param 3 is 0.8922\n",
      "The accuracy score for Param 3 is 0.8368\n",
      "\n",
      "The AUC for Param 4 is 0.8443\n",
      "The accuracy score for Param 4 is 0.6825\n"
     ]
    },
    {
     "data": {
      "image/png": "[encoded data removed]",
      "text/plain": [
       "<Figure size 504x360 with 1 Axes>"
      ]
     },
     "metadata": {
      "needs_background": "light"
     },
     "output_type": "display_data"
    },
    {
     "data": {
      "image/png": "[encoded data removed]",
      "text/plain": [
       "<Figure size 432x288 with 2 Axes>"
      ]
     },
     "metadata": {
      "needs_background": "light"
     },
     "output_type": "display_data"
    },
    {
     "data": {
      "image/png": "[encoded data removed]",
      "text/plain": [
       "<Figure size 432x288 with 2 Axes>"
      ]
     },
     "metadata": {
      "needs_background": "light"
     },
     "output_type": "display_data"
    },
    {
     "data": {
      "image/png": "[encoded data removed]",
      "text/plain": [
       "<Figure size 432x288 with 2 Axes>"
      ]
     },
     "metadata": {
      "needs_background": "light"
     },
     "output_type": "display_data"
    },
    {
     "data": {
      "image/png": "[encoded data removed]",
      "text/plain": [
       "<Figure size 432x288 with 2 Axes>"
      ]
     },
     "metadata": {
      "needs_background": "light"
     },
     "output_type": "display_data"
    }
   ],
   "source": [
    "xtest, ytest, _ = classifier(data, clf_RF)\n",
    "confusion_plot(clf_RF, xtest, ytest)"
   ]
  },
  {
   "cell_type": "code",
   "execution_count": 18,
   "metadata": {},
   "outputs": [
    {
     "name": "stdout",
     "output_type": "stream",
     "text": [
      "\n",
      "The AUC for Param1 is 0.9053\n",
      "The accuracy score for Param1 is 0.8694\n",
      "\n",
      "The AUC for Param2 is 0.9051\n",
      "The accuracy score for Param2 is 0.8665\n"
     ]
    },
    {
     "data": {
      "image/png": "[encoded data removed]",
      "text/plain": [
       "<Figure size 504x360 with 1 Axes>"
      ]
     },
     "metadata": {
      "needs_background": "light"
     },
     "output_type": "display_data"
    },
    {
     "data": {
      "image/png": "[encoded data removed]",
      "text/plain": [
       "<Figure size 432x288 with 2 Axes>"
      ]
     },
     "metadata": {
      "needs_background": "light"
     },
     "output_type": "display_data"
    },
    {
     "data": {
      "image/png": "[encoded data removed]",
      "text/plain": [
       "<Figure size 432x288 with 2 Axes>"
      ]
     },
     "metadata": {
      "needs_background": "light"
     },
     "output_type": "display_data"
    }
   ],
   "source": [
    "xtest, ytest, _ = classifier(data, clf_LR)\n",
    "confusion_plot(clf_LR, xtest, ytest)"
   ]
  },
  {
   "cell_type": "code",
   "execution_count": 19,
   "metadata": {},
   "outputs": [
    {
     "data": {
      "image/png": "[encoded data removed]",
      "text/plain": [
       "<Figure size 432x288 with 2 Axes>"
      ]
     },
     "metadata": {
      "needs_background": "light"
     },
     "output_type": "display_data"
    },
    {
     "data": {
      "image/png": "[encoded data removed]",
      "text/plain": [
       "<Figure size 432x288 with 2 Axes>"
      ]
     },
     "metadata": {
      "needs_background": "light"
     },
     "output_type": "display_data"
    },
    {
     "data": {
      "image/png": "[encoded data removed]",
      "text/plain": [
       "<Figure size 432x288 with 2 Axes>"
      ]
     },
     "metadata": {
      "needs_background": "light"
     },
     "output_type": "display_data"
    },
    {
     "data": {
      "image/png": "[encoded data removed]",
      "text/plain": [
       "<Figure size 432x288 with 2 Axes>"
      ]
     },
     "metadata": {
      "needs_background": "light"
     },
     "output_type": "display_data"
    }
   ],
   "source": [
    "confusion_plot(clfs, xtest, ytest)"
   ]
  },
  {
   "cell_type": "code",
   "execution_count": 20,
   "metadata": {},
   "outputs": [],
   "source": [
    "def project(data):\n",
    "    zero = data['que_paso'] == 0\n",
    "    one = data['que_paso'] == 1\n",
    "    x0 = data[zero]\n",
    "    x1 = data[one]\n",
    "    \n",
    "    age0 = x0.iloc[:, 0] \n",
    "    sex0 = x0.iloc[:, 1] \n",
    "    country0 = x0.iloc[:,2]\n",
    "    chronic0 = x0.iloc[:,3]\n",
    "    \n",
    "    age1 = x1.iloc[:,0]\n",
    "    sex1 = x1.iloc[:,1]\n",
    "    country1 = x1.iloc[:,2]\n",
    "    chronic1 = x1.iloc[:,3]\n",
    "    \n",
    "    # Visualizing data in higher dimension \n",
    "    fig = plt.figure(figsize = (8,6)) \n",
    "    ax = fig.add_subplot(111, projection = '3d') \n",
    "    ax.scatter(sex0, chronic0, age0, label = 'Non-Recovered')\n",
    "    ax.scatter(sex1, chronic1, age1, label = 'Recovered')\n",
    "    ax.set_xlabel(\"Sex\")\n",
    "    ax.set_ylabel(\"Chronic Disease (Y/N)\")\n",
    "    ax.set_zlabel(\"Age\")\n",
    "    plt.legend()\n",
    "    plt.show()"
   ]
  },
  {
   "cell_type": "markdown",
   "metadata": {},
   "source": [
    "Visualization of the Data Set"
   ]
  },
  {
   "cell_type": "code",
   "execution_count": 21,
   "metadata": {},
   "outputs": [
    {
     "data": {
      "image/png": "[encoded data removed]",
      "text/plain": [
       "<Figure size 576x432 with 1 Axes>"
      ]
     },
     "metadata": {
      "needs_background": "light"
     },
     "output_type": "display_data"
    }
   ],
   "source": [
    "project(data)"
   ]
  },
  {
   "cell_type": "code",
   "execution_count": 22,
   "metadata": {},
   "outputs": [],
   "source": [
    "def pca(data):\n",
    "    X = data.drop(['que_paso'], axis = 1)\n",
    "    y = data['que_paso']\n",
    "    pca = PCA(n_components = 2)\n",
    "    pca_components = pca.fit_transform(X)\n",
    "    return pca_components"
   ]
  },
  {
   "cell_type": "code",
   "execution_count": 23,
   "metadata": {},
   "outputs": [],
   "source": [
    "def plot_decision_boundary(clf_dict, X, y):\n",
    "    names = list(clf_dict.keys())\n",
    "    methods = list(clf_dict.values())\n",
    "    \n",
    "    for clf in methods:\n",
    "        cm = plt.cm.RdBu\n",
    "        cm_bright = ListedColormap(['#FF0000', '#0000FF'])\n",
    "        # Set up plotting mesh\n",
    "        # Step size of the mesh\n",
    "        h = .02 \n",
    "        x_min, x_max = X[:, 0].min() - .5, X[:, 0].max() + .5\n",
    "        y_min, y_max = X[:, 1].min() - .5, X[:, 1].max() + .5\n",
    "        xx, yy = np.meshgrid(np.arange(x_min, x_max, h),\n",
    "                             np.arange(y_min, y_max, h))\n",
    "\n",
    "        # Perform classification\n",
    "        X_train, X_test, y_train, y_test = \\\n",
    "        train_test_split(X, y, test_size=.4, random_state=42)\n",
    "        clf.fit(X_train, y_train)\n",
    "        score = clf.score(X_test, y_test)\n",
    "        # Plot the decision boundary. For that, we will assign a color to each\n",
    "\n",
    "        # point in the mesh [x_min, x_max]x[y_min, y_max].\n",
    "        if hasattr(clf, \"decision_function\"):\n",
    "            Z = clf.decision_function(np.c_[xx.ravel(), yy.ravel()])\n",
    "        else:\n",
    "            Z = clf.predict_proba(np.c_[xx.ravel(), yy.ravel()])[:, 1]\n",
    "\n",
    "        # Put the result into a color plot\n",
    "        Z = Z.reshape(xx.shape)\n",
    "        plt.figure()\n",
    "        plt.contourf(xx, yy, Z, cmap=cm, alpha=.8)\n",
    "\n",
    "        # Plot the training points\n",
    "        plt.scatter(X_train[:, 0], X_train[:, 1], c=y_train, cmap=cm_bright,\n",
    "                   edgecolors='k')\n",
    "        # Plot the testing points\n",
    "        plt.scatter(X_test[:, 0], X_test[:, 1], c=y_test, cmap=cm_bright,\n",
    "                   edgecolors='k', alpha=0.6)\n",
    "        plt.xlabel(\"Principal Component 1\")\n",
    "        plt.ylabel(\"Principal Component 2\")\n",
    "        plt.title(names[methods.index(clf)])"
   ]
  },
  {
   "cell_type": "code",
   "execution_count": 24,
   "metadata": {},
   "outputs": [],
   "source": [
    "pca_components = pca(data)"
   ]
  },
  {
   "cell_type": "markdown",
   "metadata": {},
   "source": [
    "Decision Boundary Plots by Different Algorithms"
   ]
  },
  {
   "cell_type": "code",
   "execution_count": 25,
   "metadata": {},
   "outputs": [
    {
     "ename": "KeyboardInterrupt",
     "evalue": "",
     "output_type": "error",
     "traceback": [
      "\u001b[1;31m---------------------------------------------------------------------------\u001b[0m",
      "\u001b[1;31mKeyboardInterrupt\u001b[0m                         Traceback (most recent call last)",
      "\u001b[1;32m<ipython-input-25-ef556ef994ba>\u001b[0m in \u001b[0;36m<module>\u001b[1;34m\u001b[0m\n\u001b[1;32m----> 1\u001b[1;33m \u001b[0mplot_decision_boundary\u001b[0m\u001b[1;33m(\u001b[0m\u001b[0mclfs\u001b[0m\u001b[1;33m,\u001b[0m \u001b[0mpca_components\u001b[0m\u001b[1;33m,\u001b[0m \u001b[0mytrain\u001b[0m\u001b[1;33m)\u001b[0m\u001b[1;33m\u001b[0m\u001b[1;33m\u001b[0m\u001b[0m\n\u001b[0m",
      "\u001b[1;32m<ipython-input-23-7e3ef4fdcc70>\u001b[0m in \u001b[0;36mplot_decision_boundary\u001b[1;34m(clf_dict, X, y)\u001b[0m\n\u001b[0;32m     23\u001b[0m         \u001b[1;31m# point in the mesh [x_min, x_max]x[y_min, y_max].\u001b[0m\u001b[1;33m\u001b[0m\u001b[1;33m\u001b[0m\u001b[1;33m\u001b[0m\u001b[0m\n\u001b[0;32m     24\u001b[0m         \u001b[1;32mif\u001b[0m \u001b[0mhasattr\u001b[0m\u001b[1;33m(\u001b[0m\u001b[0mclf\u001b[0m\u001b[1;33m,\u001b[0m \u001b[1;34m\"decision_function\"\u001b[0m\u001b[1;33m)\u001b[0m\u001b[1;33m:\u001b[0m\u001b[1;33m\u001b[0m\u001b[1;33m\u001b[0m\u001b[0m\n\u001b[1;32m---> 25\u001b[1;33m             \u001b[0mZ\u001b[0m \u001b[1;33m=\u001b[0m \u001b[0mclf\u001b[0m\u001b[1;33m.\u001b[0m\u001b[0mdecision_function\u001b[0m\u001b[1;33m(\u001b[0m\u001b[0mnp\u001b[0m\u001b[1;33m.\u001b[0m\u001b[0mc_\u001b[0m\u001b[1;33m[\u001b[0m\u001b[0mxx\u001b[0m\u001b[1;33m.\u001b[0m\u001b[0mravel\u001b[0m\u001b[1;33m(\u001b[0m\u001b[1;33m)\u001b[0m\u001b[1;33m,\u001b[0m \u001b[0myy\u001b[0m\u001b[1;33m.\u001b[0m\u001b[0mravel\u001b[0m\u001b[1;33m(\u001b[0m\u001b[1;33m)\u001b[0m\u001b[1;33m]\u001b[0m\u001b[1;33m)\u001b[0m\u001b[1;33m\u001b[0m\u001b[1;33m\u001b[0m\u001b[0m\n\u001b[0m\u001b[0;32m     26\u001b[0m         \u001b[1;32melse\u001b[0m\u001b[1;33m:\u001b[0m\u001b[1;33m\u001b[0m\u001b[1;33m\u001b[0m\u001b[0m\n\u001b[0;32m     27\u001b[0m             \u001b[0mZ\u001b[0m \u001b[1;33m=\u001b[0m \u001b[0mclf\u001b[0m\u001b[1;33m.\u001b[0m\u001b[0mpredict_proba\u001b[0m\u001b[1;33m(\u001b[0m\u001b[0mnp\u001b[0m\u001b[1;33m.\u001b[0m\u001b[0mc_\u001b[0m\u001b[1;33m[\u001b[0m\u001b[0mxx\u001b[0m\u001b[1;33m.\u001b[0m\u001b[0mravel\u001b[0m\u001b[1;33m(\u001b[0m\u001b[1;33m)\u001b[0m\u001b[1;33m,\u001b[0m \u001b[0myy\u001b[0m\u001b[1;33m.\u001b[0m\u001b[0mravel\u001b[0m\u001b[1;33m(\u001b[0m\u001b[1;33m)\u001b[0m\u001b[1;33m]\u001b[0m\u001b[1;33m)\u001b[0m\u001b[1;33m[\u001b[0m\u001b[1;33m:\u001b[0m\u001b[1;33m,\u001b[0m \u001b[1;36m1\u001b[0m\u001b[1;33m]\u001b[0m\u001b[1;33m\u001b[0m\u001b[1;33m\u001b[0m\u001b[0m\n",
      "\u001b[1;32m~\\AppData\\Local\\Continuum\\anaconda3\\lib\\site-packages\\sklearn\\ensemble\\_weight_boosting.py\u001b[0m in \u001b[0;36mdecision_function\u001b[1;34m(self, X)\u001b[0m\n\u001b[0;32m    695\u001b[0m             \u001b[1;31m# The weights are all 1. for SAMME.R\u001b[0m\u001b[1;33m\u001b[0m\u001b[1;33m\u001b[0m\u001b[1;33m\u001b[0m\u001b[0m\n\u001b[0;32m    696\u001b[0m             pred = sum(_samme_proba(estimator, n_classes, X)\n\u001b[1;32m--> 697\u001b[1;33m                        for estimator in self.estimators_)\n\u001b[0m\u001b[0;32m    698\u001b[0m         \u001b[1;32melse\u001b[0m\u001b[1;33m:\u001b[0m  \u001b[1;31m# self.algorithm == \"SAMME\"\u001b[0m\u001b[1;33m\u001b[0m\u001b[1;33m\u001b[0m\u001b[0m\n\u001b[0;32m    699\u001b[0m             pred = sum((estimator.predict(X) == classes).T * w\n",
      "\u001b[1;32m~\\AppData\\Local\\Continuum\\anaconda3\\lib\\site-packages\\sklearn\\ensemble\\_weight_boosting.py\u001b[0m in \u001b[0;36m<genexpr>\u001b[1;34m(.0)\u001b[0m\n\u001b[0;32m    695\u001b[0m             \u001b[1;31m# The weights are all 1. for SAMME.R\u001b[0m\u001b[1;33m\u001b[0m\u001b[1;33m\u001b[0m\u001b[1;33m\u001b[0m\u001b[0m\n\u001b[0;32m    696\u001b[0m             pred = sum(_samme_proba(estimator, n_classes, X)\n\u001b[1;32m--> 697\u001b[1;33m                        for estimator in self.estimators_)\n\u001b[0m\u001b[0;32m    698\u001b[0m         \u001b[1;32melse\u001b[0m\u001b[1;33m:\u001b[0m  \u001b[1;31m# self.algorithm == \"SAMME\"\u001b[0m\u001b[1;33m\u001b[0m\u001b[1;33m\u001b[0m\u001b[0m\n\u001b[0;32m    699\u001b[0m             pred = sum((estimator.predict(X) == classes).T * w\n",
      "\u001b[1;31mKeyboardInterrupt\u001b[0m: "
     ]
    }
   ],
   "source": [
    "plot_decision_boundary(clfs, pca_components, ytrain)"
   ]
  },
  {
   "cell_type": "markdown",
   "metadata": {},
   "source": [
    "# Matthew Nwerem"
   ]
  },
  {
   "cell_type": "code",
   "execution_count": null,
   "metadata": {},
   "outputs": [],
   "source": [
    "train = pd.read_csv(\"covid2train.csv\", index_col = 0)"
   ]
  },
  {
   "cell_type": "code",
   "execution_count": null,
   "metadata": {},
   "outputs": [],
   "source": [
    "##This clean function was created by Duc, I used it in a little different way"
   ]
  },
  {
   "cell_type": "code",
   "execution_count": null,
   "metadata": {},
   "outputs": [],
   "source": [
    "def clean(train):\n",
    "    features = ['age', 'sex', 'country', 'chronic_disease_binary', 'que_paso']\n",
    "    xtrain = train[features]\n",
    "\n",
    "# Dropping NA's from only 'sex' + 'country'    \n",
    "    subset = xtrain.dropna(subset = ['age','sex','country'])\n",
    "    countries = xtrain['country'].drop_duplicates().dropna()\n",
    "\n",
    "# Replacing the age ranges with their means    \n",
    "    mp = {'20-29': np.mean([20,29]), '40-49': np.mean([40,49]),'50-59': np.mean([50,59]),\n",
    "          '60-69': np.mean([60,69]), '70-79': np.mean([70,79]),\n",
    "          '80-89': np.mean([80,89]),'90-99': np.mean([90,99]), '80-': 80}\n",
    "    \n",
    "# Dictionary replacing countries with numerical values\n",
    "    mp2 = {}\n",
    "    key = np.arange(len(countries) + 1)\n",
    "    for i,j in zip(countries,key):\n",
    "        val = {i:j}\n",
    "        mp2.update(val)\n",
    "        \n",
    "    mp3 = {'male': 0, 'female': 1}\n",
    "        \n",
    "# Updating the training data with new values\n",
    "    subset = subset.replace(mp).replace(mp2).replace(mp3)\n",
    "    subset['chronic_disease_binary'] = subset['chronic_disease_binary']*1\n",
    "    subset['age'] = subset['age'].astype(float)\n",
    "    \n",
    "    xtrain = subset\n",
    "    ytrain = subset['que_paso']\n",
    "    return xtrain, ytrain, mp2"
   ]
  },
  {
   "cell_type": "code",
   "execution_count": null,
   "metadata": {},
   "outputs": [],
   "source": [
    "xtrain, ytrain, mp2 = clean(train)"
   ]
  },
  {
   "cell_type": "code",
   "execution_count": null,
   "metadata": {},
   "outputs": [],
   "source": [
    "xtrain.age.value_counts()"
   ]
  },
  {
   "cell_type": "code",
   "execution_count": null,
   "metadata": {},
   "outputs": [],
   "source": [
    "ytrain.value_counts()"
   ]
  },
  {
   "cell_type": "code",
   "execution_count": null,
   "metadata": {},
   "outputs": [],
   "source": [
    "xtrain"
   ]
  },
  {
   "cell_type": "code",
   "execution_count": null,
   "metadata": {},
   "outputs": [],
   "source": [
    "xtrain.sex.value_counts()"
   ]
  },
  {
   "cell_type": "code",
   "execution_count": null,
   "metadata": {},
   "outputs": [],
   "source": [
    "import statsmodels.api as sm\n",
    "import matplotlib.pyplot as plt"
   ]
  },
  {
   "cell_type": "markdown",
   "metadata": {},
   "source": [
    "### Linear Regression\n",
    "##### Sex and Age explain the most amount of data"
   ]
  },
  {
   "cell_type": "code",
   "execution_count": null,
   "metadata": {},
   "outputs": [],
   "source": [
    "reg = sm.add_constant(xtrain['age'])\n",
    "results = sm.OLS(ytrain, reg).fit()\n",
    "results.summary()"
   ]
  },
  {
   "cell_type": "code",
   "execution_count": null,
   "metadata": {},
   "outputs": [],
   "source": [
    "reg = sm.add_constant(xtrain['chronic_disease_binary'])\n",
    "results = sm.OLS(ytrain, reg).fit()\n",
    "results.summary()"
   ]
  },
  {
   "cell_type": "code",
   "execution_count": null,
   "metadata": {},
   "outputs": [],
   "source": [
    "reg = sm.add_constant(xtrain['sex'])\n",
    "results = sm.OLS(ytrain, reg).fit()\n",
    "results.summary()"
   ]
  },
  {
   "cell_type": "code",
   "execution_count": null,
   "metadata": {},
   "outputs": [],
   "source": [
    "columns = xtrain[['age','chronic_disease_binary']]\n",
    "reg = sm.add_constant(columns)\n",
    "results = sm.OLS(ytrain, reg).fit()\n",
    "results.summary()"
   ]
  },
  {
   "cell_type": "markdown",
   "metadata": {},
   "source": [
    "#### VIF comparison shows that our features are not vary correlated to each other"
   ]
  },
  {
   "cell_type": "code",
   "execution_count": null,
   "metadata": {},
   "outputs": [],
   "source": [
    "def generate_vif_dataframe(train_data):\n",
    "    ## Your code goes here\n",
    "\n",
    "    #for column in data:\n",
    "        # take all nums in data and do single linreg w/ quality as y\n",
    "        # get r-squared for that column\n",
    "        # calcluate_vif(r-sqaured of column)\n",
    "        # create data frame, column 1 = var name, column 2 = VIF\n",
    "\n",
    "    varNames = np.array([])\n",
    "    VIFs = np.array([])\n",
    "\n",
    "    for column in train_data:\n",
    "        \n",
    "        columnObj = train_data.drop(column, axis = 1)\n",
    "        reg = sm.add_constant(columnObj)\n",
    "        results = sm.OLS(train_data[column], reg).fit()\n",
    "        r_sq = results.rsquared\n",
    "        VIF = calculate_vif(r_sq)\n",
    "\n",
    "        varNames= np.append(varNames, column)    \n",
    "        VIFs= np.append(VIFs, VIF)\n",
    "        \n",
    "    vif_dataframe = pd.DataFrame({\"Variable Name\": varNames, \"VIF\": VIFs})\n",
    "    \n",
    "    plt.bar(varNames,VIFs)\n",
    "    plt.xticks(rotation=50)\n",
    "    plt.title(\"VIFs of COVID-19 Data\")\n",
    "    return vif_dataframe"
   ]
  },
  {
   "cell_type": "code",
   "execution_count": null,
   "metadata": {},
   "outputs": [],
   "source": [
    "def calculate_vif(r_squared):\n",
    "    ## Your code goes here\n",
    "    vif = 1/(1-r_squared)\n",
    "    \n",
    "    return vif"
   ]
  },
  {
   "cell_type": "code",
   "execution_count": null,
   "metadata": {},
   "outputs": [],
   "source": [
    "generate_vif_dataframe(xtrain)"
   ]
  },
  {
   "cell_type": "markdown",
   "metadata": {},
   "source": [
    "### Logistic Regression"
   ]
  },
  {
   "cell_type": "code",
   "execution_count": null,
   "metadata": {},
   "outputs": [],
   "source": [
    "from sklearn.linear_model import LogisticRegression\n",
    "import matplotlib.pyplot as plt\n",
    "from sklearn.metrics import roc_curve\n",
    "from sklearn.metrics import roc_auc_score\n",
    "from sklearn.model_selection import train_test_split\n",
    "from sklearn.metrics import accuracy_score\n",
    "from sklearn import metrics\n",
    "from sklearn.linear_model import LogisticRegressionCV"
   ]
  },
  {
   "cell_type": "code",
   "execution_count": null,
   "metadata": {},
   "outputs": [],
   "source": [
    "x_train, x_test, y_train, y_test = train_test_split(xtrain, ytrain, test_size = 0.5)"
   ]
  },
  {
   "cell_type": "code",
   "execution_count": null,
   "metadata": {},
   "outputs": [],
   "source": [
    "print(x_train.shape)\n",
    "print(y_train.shape)\n",
    "print(x_test.shape)\n",
    "print(y_test.shape)"
   ]
  },
  {
   "cell_type": "code",
   "execution_count": null,
   "metadata": {},
   "outputs": [],
   "source": [
    "y_train = x_train['que_paso']\n",
    "x_train = x_train.drop('que_paso', axis = 1)"
   ]
  },
  {
   "cell_type": "code",
   "execution_count": null,
   "metadata": {},
   "outputs": [],
   "source": [
    "clf1 = LogisticRegression(solver = 'liblinear').fit(x_train,y_train)"
   ]
  },
  {
   "cell_type": "code",
   "execution_count": null,
   "metadata": {},
   "outputs": [],
   "source": [
    "x_test"
   ]
  },
  {
   "cell_type": "code",
   "execution_count": null,
   "metadata": {},
   "outputs": [],
   "source": [
    "x_test['que_paso']"
   ]
  },
  {
   "cell_type": "code",
   "execution_count": null,
   "metadata": {},
   "outputs": [],
   "source": [
    "y_test = x_test['que_paso']\n",
    "x_test = x_test.drop('que_paso', axis = 1)"
   ]
  },
  {
   "cell_type": "code",
   "execution_count": null,
   "metadata": {},
   "outputs": [],
   "source": [
    "clf1.predict(x_test)\n",
    "clf1.score(x_test, y_test)"
   ]
  },
  {
   "cell_type": "code",
   "execution_count": null,
   "metadata": {},
   "outputs": [],
   "source": [
    "probability = clf1.predict_proba(x_test)\n",
    "probability"
   ]
  },
  {
   "cell_type": "markdown",
   "metadata": {},
   "source": [
    "##### Testing Different Solvers"
   ]
  },
  {
   "cell_type": "raw",
   "metadata": {},
   "source": [
    " For small datasets, ‘liblinear’ is a good choice, whereas ‘sag’ and ‘saga’ are faster for large ones.\n",
    "\n",
    "For multiclass problems, only ‘newton-cg’, ‘sag’, ‘saga’ and ‘lbfgs’ handle multinomial loss; ‘liblinear’ is limited to one-versus-rest schemes.\n",
    "\n",
    "‘newton-cg’, ‘lbfgs’, ‘sag’ and ‘saga’ handle L2 or no penalty\n",
    "\n",
    "‘liblinear’ and ‘saga’ also handle L1 penalty\n",
    "\n",
    "‘saga’ also supports ‘elasticnet’ penalty\n",
    "\n",
    "‘liblinear’ does not support setting penalty='none'\n",
    "\n",
    "Note that ‘sag’ and ‘saga’ fast convergence is only guaranteed on features with approximately the same scale. You can preprocess the data with a scaler from sklearn.preprocessing."
   ]
  },
  {
   "cell_type": "code",
   "execution_count": null,
   "metadata": {},
   "outputs": [],
   "source": [
    "testing = 0\n",
    "scores = []\n",
    "while testing < 300:\n",
    "    x_train, x_test, y_train, y_test = train_test_split(xtrain, ytrain, test_size = 0.3)\n",
    "    y_train = x_train['que_paso']\n",
    "    x_train = x_train.drop('que_paso', axis = 1)\n",
    "    clf1 = LogisticRegression(solver = 'liblinear').fit(x_train,y_train)\n",
    "    y_test = x_test['que_paso']\n",
    "    x_test = x_test.drop('que_paso', axis = 1)\n",
    "    clf1.predict(x_test)\n",
    "    scores.append(clf1.score(x_test, y_test))\n",
    "    testing +=1"
   ]
  },
  {
   "cell_type": "code",
   "execution_count": null,
   "metadata": {},
   "outputs": [],
   "source": [
    "import statistics\n",
    "statistics.mean(scores) "
   ]
  },
  {
   "cell_type": "code",
   "execution_count": null,
   "metadata": {},
   "outputs": [],
   "source": [
    "testing = 0\n",
    "scores = []\n",
    "while testing < 300:\n",
    "    x_train, x_test, y_train, y_test = train_test_split(xtrain, ytrain, test_size = 0.3)\n",
    "    y_train = x_train['que_paso']\n",
    "    x_train = x_train.drop('que_paso', axis = 1)\n",
    "    clf1 = LogisticRegression(solver = 'newton-cg').fit(x_train,y_train)\n",
    "    y_test = x_test['que_paso']\n",
    "    x_test = x_test.drop('que_paso', axis = 1)\n",
    "    clf1.predict(x_test)\n",
    "    scores.append(clf1.score(x_test, y_test))\n",
    "    testing +=1"
   ]
  },
  {
   "cell_type": "code",
   "execution_count": null,
   "metadata": {},
   "outputs": [],
   "source": [
    "import statistics\n",
    "statistics.mean(scores)"
   ]
  },
  {
   "cell_type": "code",
   "execution_count": null,
   "metadata": {},
   "outputs": [],
   "source": [
    "testing = 0\n",
    "scores = []\n",
    "while testing < 300:\n",
    "    x_train, x_test, y_train, y_test = train_test_split(xtrain, ytrain, test_size = 0.3)\n",
    "    y_train = x_train['que_paso']\n",
    "    x_train = x_train.drop('que_paso', axis = 1)\n",
    "    clf1cv = LogisticRegressionCV(cv= 5, solver = 'liblinear').fit(x_train,y_train)\n",
    "    y_test = x_test['que_paso']\n",
    "    x_test = x_test.drop('que_paso', axis = 1)\n",
    "    clf1.predict(x_test)\n",
    "    scores.append(clf1.score(x_test, y_test))\n",
    "    testing +=1"
   ]
  },
  {
   "cell_type": "code",
   "execution_count": null,
   "metadata": {},
   "outputs": [],
   "source": [
    "statistics.mean(scores)"
   ]
  },
  {
   "cell_type": "code",
   "execution_count": null,
   "metadata": {},
   "outputs": [],
   "source": [
    "import numpy as np\n",
    "from sklearn.linear_model import LogisticRegression\n",
    "from sklearn.datasets import make_classification\n",
    "import matplotlib.pyplot as plt\n",
    "import seaborn as sns\n",
    "sns.set(style=\"white\")"
   ]
  },
  {
   "cell_type": "code",
   "execution_count": null,
   "metadata": {},
   "outputs": [],
   "source": [
    "clf1 = LogisticRegression(solver = 'newton-cg').fit(x_train,y_train)\n",
    "\n",
    "y_pred = clf1.predict(x_test)\n",
    "y_prob = clf1.predict_proba(x_test)"
   ]
  },
  {
   "cell_type": "code",
   "execution_count": null,
   "metadata": {},
   "outputs": [],
   "source": [
    "var = ['Age', 'Sex','Country', 'Chronic Disease']"
   ]
  },
  {
   "cell_type": "code",
   "execution_count": null,
   "metadata": {},
   "outputs": [],
   "source": [
    "importance = clf1.coef_[0]\n",
    "# summarize feature importance\n",
    "for i,v in enumerate(importance):\n",
    "\tprint('Feature: %0d, Score: %.5f' % (i,v))\n",
    "# plot feature importance\n",
    "fig, ax = plt.subplots(figsize = (7,5))\n",
    "y_pos = np.arange(len(var))\n",
    "\n",
    "#ax.barh(y_pos, var_imp, align='center')\n",
    "ax.barh([x for x in range(len(importance))], importance)\n",
    "ax.set_yticks(y_pos)\n",
    "ax.set_yticklabels(var)\n",
    "ax.invert_yaxis() \n",
    "ax.set_xlabel('Importance', fontsize = 10)\n",
    "ax.set_title('Feature Importance', fontsize = 12)\n",
    "\n",
    "plt.show()"
   ]
  },
  {
   "cell_type": "markdown",
   "metadata": {},
   "source": [
    "The positive scores indicate a feature that predicts class 1, whereas the negative scores indicate a feature that predicts class 0."
   ]
  },
  {
   "cell_type": "code",
   "execution_count": null,
   "metadata": {},
   "outputs": [],
   "source": [
    "from sklearn.decomposition import PCA"
   ]
  },
  {
   "cell_type": "code",
   "execution_count": null,
   "metadata": {},
   "outputs": [],
   "source": [
    "pca = PCA(n_components=2)\n",
    "principalcomponents = pca.fit_transform(x_train)\n",
    "print(pca.explained_variance_ratio_)\n",
    "\n",
    "principle_df = pd.DataFrame({'PCA 1': principalcomponents[:,0], 'PCA 2': principalcomponents[:,1], 'target':y_train})\n",
    "#final_df = principle_df\n",
    "#principle_df[\"target\"] = y_train\n",
    "\n",
    "print(principle_df)"
   ]
  },
  {
   "cell_type": "code",
   "execution_count": null,
   "metadata": {},
   "outputs": [],
   "source": [
    "fig = plt.figure(figsize=(8, 6))\n",
    "ax =  fig.add_subplot(1,1,1)\n",
    "ax.set_xlabel(\"Principal Compenent 1\", fontsize = 15)\n",
    "ax.set_ylabel(\"Principal Compenent 2\", fontsize = 15)\n",
    "ax.set_title(\"2 Component PCA\", fontsize = 20)\n",
    "\n",
    "targets = [1,0]\n",
    "colors = ['g', 'r']\n",
    "for target, color in zip(targets, colors):\n",
    "    indicesToKeep = y_train == target\n",
    "    ax.scatter(principle_df.loc[indicesToKeep, \"PCA 1\"],\n",
    "              principle_df.loc[indicesToKeep, \"PCA 2\"],\n",
    "              c = color,\n",
    "              s = 50)\n",
    "\n",
    "ax.legend(targets)\n",
    "ax.grid()"
   ]
  },
  {
   "cell_type": "markdown",
   "metadata": {},
   "source": [
    "# Riley Kendall"
   ]
  },
  {
   "cell_type": "code",
   "execution_count": null,
   "metadata": {},
   "outputs": [],
   "source": [
    "train = pd.read_csv(\"covid2train.csv\", index_col = 0)"
   ]
  },
  {
   "cell_type": "code",
   "execution_count": null,
   "metadata": {},
   "outputs": [],
   "source": [
    "def clean(train):\n",
    "    features = ['age', 'sex', 'country', 'chronic_disease_binary', 'que_paso']\n",
    "    xtrain = train[features]\n",
    "\n",
    "# Dropping NA's from only 'sex' + 'country'    \n",
    "    subset = xtrain.dropna(subset = ['age','sex','country'])\n",
    "    countries = xtrain['country'].drop_duplicates().dropna()\n",
    "\n",
    "# Replacing the age ranges with their means    \n",
    "    mp = {'20-29': np.mean([20,29]), '40-49': np.mean([40,49]),'50-59': np.mean([50,59]),\n",
    "          '60-69': np.mean([60,69]), '70-79': np.mean([70,79]),\n",
    "          '80-89': np.mean([80,89]),'90-99': np.mean([90,99]), '80-': 80}\n",
    "    \n",
    "# Dictionary replacing countries with numerical values\n",
    "    mp2 = {}\n",
    "    key = np.arange(len(countries) + 1)\n",
    "    for i,j in zip(countries,key):\n",
    "        val = {i:j}\n",
    "        mp2.update(val)\n",
    "        \n",
    "    mp3 = {'male': 0, 'female': 1}\n",
    "        \n",
    "# Updating the training data with new values\n",
    "    subset = subset.replace(mp).replace(mp2)\n",
    "    subset = subset.replace(mp3)\n",
    "    subset['chronic_disease_binary'] = subset['chronic_disease_binary']*1\n",
    "    subset['age'] = subset['age'].astype(float)\n",
    "    xtrain = subset.drop('que_paso', axis = 1)\n",
    "    ytrain = subset['que_paso']\n",
    "    return xtrain, ytrain"
   ]
  },
  {
   "cell_type": "code",
   "execution_count": null,
   "metadata": {},
   "outputs": [],
   "source": [
    "xtrain, ytrain = clean(train)\n",
    "xtrain['outcome'] = ytrain\n",
    "all_ds = xtrain"
   ]
  },
  {
   "cell_type": "code",
   "execution_count": null,
   "metadata": {},
   "outputs": [],
   "source": [
    "d = all_ds['outcome'] == 0\n",
    "r= all_ds['outcome'] == 1"
   ]
  },
  {
   "cell_type": "code",
   "execution_count": null,
   "metadata": {},
   "outputs": [],
   "source": [
    "#Sex Information\n",
    "m = all_ds['sex'] == 0\n",
    "f = all_ds['sex'] == 1\n",
    "\n",
    "count_s = all_ds['sex'].value_counts()\n",
    "m_t = count_s[0]\n",
    "f_t = count_s[1]\n",
    "\n",
    "m_d = (len(all_ds[m & d])/m_t)*100\n",
    "f_d = (len(all_ds[f & d])/f_t)*100\n",
    "m_r = (len(all_ds[m & r])/m_t)*100\n",
    "f_r = (len(all_ds[f & r])/f_t)*100"
   ]
  },
  {
   "cell_type": "code",
   "execution_count": null,
   "metadata": {},
   "outputs": [],
   "source": [
    "#Freq Sex vs Outcome Plot\n",
    "labels = ['Not Recovered', 'Recovered']\n",
    "\n",
    "M = [m_d,m_r]\n",
    "F = [f_d,f_r]\n",
    "\n",
    "x = np.arange(len(labels))\n",
    "width = 0.3\n",
    "\n",
    "fig, ax = plt.subplots(figsize = (9,6))\n",
    "rects1 = ax.bar(x - .5*width, M, width, label='Male', color = 'gold')\n",
    "rects2 = ax.bar(x + .5*width, F, width, label='Female', color = 'rebeccapurple')\n",
    "\n",
    "ax.set_ylabel('Frequency (%)', fontsize=16)\n",
    "ax.set_title('Frequency of Covid-19 Cases by Gender vs Outcome', fontsize=18)\n",
    "ax.set_xticks(x)\n",
    "ax.set_xticklabels(labels, fontsize=16)\n",
    "ax.legend(loc='best', fontsize=16)\n",
    "\n",
    "plt.show()\n"
   ]
  },
  {
   "cell_type": "code",
   "execution_count": null,
   "metadata": {},
   "outputs": [],
   "source": [
    "#Chronic Disease\n",
    "n_ch = all_ds['chronic_disease_binary'] == 0\n",
    "ch = all_ds['chronic_disease_binary'] == 1\n",
    "\n",
    "count_ch = all_ds['chronic_disease_binary'].value_counts()\n",
    "n_ch_t = count_ch[0]\n",
    "ch_t = count_ch[1]\n",
    "\n",
    "n_ch_d = (len(all_ds[n_ch & d])/m_t)*100\n",
    "ch_d = (len(all_ds[ch & d])/f_t)*100\n",
    "n_ch_r = (len(all_ds[n_ch & r])/m_t)*100\n",
    "ch_r = (len(all_ds[ch & r])/f_t)*100"
   ]
  },
  {
   "cell_type": "code",
   "execution_count": null,
   "metadata": {},
   "outputs": [],
   "source": [
    "#Freq Sex vs Outcome Plot\n",
    "labels = ['Not Recovered', 'Recovered']\n",
    "\n",
    "N_CH = [n_ch_d,n_ch_r]\n",
    "CH = [ch_d,ch_r]\n",
    "\n",
    "x = np.arange(len(labels))\n",
    "width = 0.3\n",
    "\n",
    "fig, ax = plt.subplots(figsize = (9,6))\n",
    "rects1 = ax.bar(x - .5*width, N_CH, width, label='No Chronic Diseases', color = 'navy')\n",
    "rects2 = ax.bar(x + .5*width, CH, width, label='Yes Chronic Diseases', color = 'darkgrey')\n",
    "\n",
    "ax.set_ylabel('Frequency (%)', fontsize=16)\n",
    "ax.set_title('Frequency of Covid-19 Cases by Chronic Disease vs Outcome', fontsize=18)\n",
    "ax.set_xticks(x)\n",
    "ax.set_xticklabels(labels, fontsize=16)\n",
    "ax.legend(loc='best', fontsize=16)\n",
    "\n",
    "plt.show()"
   ]
  },
  {
   "cell_type": "code",
   "execution_count": null,
   "metadata": {},
   "outputs": [],
   "source": [
    "#Country Information\n",
    "China = all_ds['country'] == 0\n",
    "Italy = all_ds['country'] == 1\n",
    "US = all_ds['country'] == 15\n",
    "Vietnam = all_ds['country'] == 19\n",
    "\n",
    "count_c = all_ds['country'].value_counts()\n",
    "China_t = count_c[0]\n",
    "Italy_t = count_c[1]\n",
    "US_t = count_c[15]\n",
    "Vietnam_t = count_c[19]\n",
    "\n",
    "#death\n",
    "China_d = (len(all_ds[China & d])/China_t)*100\n",
    "Italy_d = (len(all_ds[Italy & d])/Italy_t)*100\n",
    "US_d = (len(all_ds[US & d])/US_t)*100\n",
    "Vietnam_d = (len(all_ds[Vietnam & d])/Vietnam_t)*100\n",
    "\n",
    "#recovery\n",
    "China_r = (len(all_ds[China & r])/China_t)*100\n",
    "Italy_r = (len(all_ds[Italy & r])/Italy_t)*100\n",
    "US_r = (len(all_ds[US & r])/US_t)*100\n",
    "Vietnam_r = (len(all_ds[Vietnam & r])/Vietnam_t)*100"
   ]
  },
  {
   "cell_type": "code",
   "execution_count": null,
   "metadata": {},
   "outputs": [],
   "source": [
    "#Freq Sex vs Outcome Plot\n",
    "labels = ['Not Recovered', 'Recovered']\n",
    "\n",
    "CH = [China_d,China_r]\n",
    "IT = [Italy_d,Italy_r]\n",
    "US = [US_d,US_r]\n",
    "VI = [Vietnam_d,Vietnam_r]\n",
    "\n",
    "x = np.arange(len(labels))\n",
    "width = 0.2\n",
    "\n",
    "fig, ax = plt.subplots(figsize = (9,6))\n",
    "rects1 = ax.bar(x - 1.5*width, CH, width, label='China', color = 'gold')\n",
    "rects2 = ax.bar(x - .5*width, IT, width, label='Italy', color = 'skyblue')\n",
    "rects2 = ax.bar(x + .5*width, US, width, label='US', color = 'red')\n",
    "rects1 = ax.bar(x + 1.5*width, VI, width, label='Vietnam', color = 'green')\n",
    "\n",
    "ax.set_ylabel('Frequency (%)', fontsize=16)\n",
    "ax.set_title('Frequency of Covid-19 Cases by Country vs Outcome', fontsize=18)\n",
    "ax.set_xticks(x)\n",
    "ax.set_xticklabels(labels, fontsize=16)\n",
    "ax.legend(loc = 'best', fontsize=16)\n",
    "\n",
    "#fig.tight_layout()\n",
    "fig = plt.figure(figsize = (5,5))\n",
    "\n",
    "plt.show()"
   ]
  },
  {
   "cell_type": "code",
   "execution_count": null,
   "metadata": {},
   "outputs": [],
   "source": [
    "#print(all_ds)\n",
    "pd.set_option('display.max_rows', all_ds.shape[0]+1)\n",
    "#all_ds\n",
    "count_o = all_ds['outcome'].value_counts()\n",
    "count_o"
   ]
  },
  {
   "cell_type": "code",
   "execution_count": null,
   "metadata": {},
   "outputs": [],
   "source": [
    "d = all_ds['outcome'] == 0\n",
    "r= all_ds['outcome'] == 1\n",
    "\n",
    "#Sex Information\n",
    "m = all_ds['sex'] == 0\n",
    "f = all_ds['sex'] == 1\n",
    "\n",
    "count_s = all_ds['sex'].value_counts()\n",
    "m_t = count_s[0]\n",
    "f_t = count_s[1]\n",
    "\n",
    "m_d = (len(all_ds[m & d])/m_t)*100\n",
    "f_d = (len(all_ds[f & d])/f_t)*100\n",
    "m_r = (len(all_ds[m & r])/m_t)*100\n",
    "f_r = (len(all_ds[f & r])/f_t)*100\n",
    "\n",
    "\n",
    "#Chronic Disease\n",
    "n_ch = all_ds['chronic_disease_binary'] == 0\n",
    "ch = all_ds['chronic_disease_binary'] == 1\n",
    "\n",
    "count_ch = all_ds['chronic_disease_binary'].value_counts()\n",
    "n_ch_t = count_ch[0]\n",
    "ch_t = count_ch[1]\n",
    "\n",
    "n_ch_d = (len(all_ds[n_ch & d])/m_t)*100\n",
    "ch_d = (len(all_ds[ch & d])/f_t)*100\n",
    "n_ch_r = (len(all_ds[n_ch & r])/m_t)*100\n",
    "ch_r = (len(all_ds[ch & r])/f_t)*100\n",
    "\n",
    "#Country Information\n",
    "China = all_ds['country'] == 0\n",
    "Italy = all_ds['country'] == 1\n",
    "US = all_ds['country'] == 15\n",
    "Vietnam = all_ds['country'] == 19\n",
    "\n",
    "count_c = all_ds['country'].value_counts()\n",
    "China_t = count_c[0]\n",
    "Italy_t = count_c[1]\n",
    "US_t = count_c[15]\n",
    "Vietnam_t = count_c[19]\n",
    "\n",
    "#death\n",
    "China_d = (len(all_ds[China & d])/China_t)*100\n",
    "Italy_d = (len(all_ds[Italy & d])/Italy_t)*100\n",
    "US_d = (len(all_ds[US & d])/US_t)*100\n",
    "Vietnam_d = (len(all_ds[Vietnam & d])/Vietnam_t)*100\n",
    "\n",
    "#recovery\n",
    "China_r = (len(all_ds[China & r])/China_t)*100\n",
    "Italy_r = (len(all_ds[Italy & r])/Italy_t)*100\n",
    "US_r = (len(all_ds[US & r])/US_t)*100\n",
    "Vietnam_r = (len(all_ds[Vietnam & r])/Vietnam_t)*100"
   ]
  },
  {
   "cell_type": "code",
   "execution_count": null,
   "metadata": {},
   "outputs": [],
   "source": [
    "age_death = xtrain['outcome'] == 0\n",
    "age_rec = xtrain['outcome'] == 1\n",
    "\n",
    "xdeath = xtrain[age_death]\n",
    "xrec = xtrain[age_rec]\n",
    "\n",
    "col1 = xdeath['age']\n",
    "col2 = xrec['age']\n",
    "\n",
    "data = [col1, col2]\n",
    "fig, ax = plt.subplots(figsize = (8,5))\n",
    "ax.set_title('Age vs. Outcome', fontsize=16)\n",
    "\n",
    "ax.boxplot(data, labels = ['Non-Recovered', 'Recovered'], widths = 0.5)\n",
    "ax.set_ylabel(\"Age\", fontsize=14)\n",
    "ax.set_xticklabels(labels, fontsize=16)\n",
    "plt.show()"
   ]
  },
  {
   "cell_type": "code",
   "execution_count": null,
   "metadata": {},
   "outputs": [],
   "source": [
    "age_male = xtrain['sex'] == 0\n",
    "age_female = xtrain['sex'] == 1\n",
    "\n",
    "xmale = xtrain[age_male]\n",
    "xfemale = xtrain[age_female]\n",
    "\n",
    "col1 = xmale['age']\n",
    "col2 = xfemale['age']\n",
    "\n",
    "data_age = [col1, col2]\n",
    "fig, ax = plt.subplots(figsize = (8,5))\n",
    "ax.set_title('Age vs. Gender', fontsize=16)\n",
    "labels = ['Male', 'Female']\n",
    "\n",
    "plt.figure()\n",
    "ax.boxplot(data_age, labels= ['Male', 'Female'], widths = 0.5)\n",
    "ax.set_ylabel(\"Age\", fontsize=14)\n",
    "ax.set_xticklabels(labels, fontsize=16)\n",
    "plt.show()"
   ]
  },
  {
   "cell_type": "code",
   "execution_count": null,
   "metadata": {},
   "outputs": [],
   "source": [
    "n_ch = all_ds['chronic_disease_binary'] == 0\n",
    "ch = all_ds['chronic_disease_binary'] == 1\n",
    "\n",
    "xn_ch = xtrain[n_ch]\n",
    "xch = xtrain[ch]\n",
    "\n",
    "col1 = xn_ch['age']\n",
    "col2 = xch['age']\n",
    "\n",
    "data_age = [col1, col2]\n",
    "fig, ax = plt.subplots(figsize = (8,5))\n",
    "ax.set_title('Age vs. Chronic Disease', fontsize=16)\n",
    "\n",
    "labels=['No Chronic Disease', 'Yes Chronic Disease']\n",
    "\n",
    "plt.figure()\n",
    "ax.boxplot(data_age, widths = 0.5)\n",
    "ax.set_ylabel(\"Age\", fontsize=14)\n",
    "ax.set_xticklabels(labels, fontsize=16)\n",
    "plt.show()"
   ]
  },
  {
   "cell_type": "code",
   "execution_count": null,
   "metadata": {},
   "outputs": [],
   "source": [
    "China = all_ds['country'] == 0\n",
    "Italy = all_ds['country'] == 1\n",
    "US = all_ds['country'] == 15\n",
    "Vietnam = all_ds['country'] == 19\n",
    "\n",
    "xChina = xtrain[China]\n",
    "xItaly = xtrain[Italy]\n",
    "xUS = xtrain[US]\n",
    "xVietnam = xtrain[Vietnam]\n",
    "\n",
    "col1 = xChina['age']\n",
    "col2 = xItaly['age']\n",
    "col3 = xUS['age']\n",
    "col4 = xVietnam['age']\n",
    "\n",
    "data_age = [col1, col2, col3, col4]\n",
    "fig, ax = plt.subplots(figsize = (8,5))\n",
    "ax.set_title('Age vs. Country', fontsize=16)\n",
    "\n",
    "labels=['China','Italy','US','Vietnam']\n",
    "\n",
    "plt.figure()\n",
    "ax.boxplot(data_age, widths = 0.5)\n",
    "ax.set_ylabel(\"Age\", fontsize=14)\n",
    "ax.set_xticklabels(labels, fontsize=16)\n",
    "plt.show()"
   ]
  },
  {
   "cell_type": "code",
   "execution_count": null,
   "metadata": {},
   "outputs": [],
   "source": [
    "#Sex Information\n",
    "#Freq Sex vs Chronic Disease Plot\n",
    "labels = ['No Chronic Disease', 'Yes Chronic Disease']\n",
    "\n",
    "m_n_ch = (len(all_ds[m & n_ch])/m_t)*100\n",
    "f_n_ch = (len(all_ds[f & n_ch])/f_t)*100\n",
    "m_ch = (len(all_ds[m & ch])/m_t)*100\n",
    "f_ch = (len(all_ds[m & ch])/f_t)*100\n",
    "\n",
    "M_dis = [m_n_ch,m_ch]\n",
    "F_dis = [f_n_ch,f_ch]\n",
    "\n",
    "x = np.arange(len(labels))\n",
    "width = 0.3\n",
    "\n",
    "fig, ax = plt.subplots(figsize = (9,6))\n",
    "rects1 = ax.bar(x - .5*width, M_dis, width, label='Male', color = 'gold')\n",
    "rects2 = ax.bar(x + .5*width, F_dis, width, label='Female', color = 'rebeccapurple')\n",
    "\n",
    "ax.set_ylabel('Frequency (%)', fontsize=16)\n",
    "ax.set_title('Frequency of Gender vs Chronic Disease', fontsize=18)\n",
    "ax.set_xticks(x)\n",
    "ax.set_xticklabels(labels, fontsize=16)\n",
    "ax.legend(loc='best', fontsize=16)\n",
    "\n",
    "plt.show()"
   ]
  },
  {
   "cell_type": "code",
   "execution_count": null,
   "metadata": {},
   "outputs": [],
   "source": [
    "#Country Information\n",
    "\n",
    "\n",
    "#Country Information\n",
    "China = all_ds['country'] == 0\n",
    "Italy = all_ds['country'] == 1\n",
    "US = all_ds['country'] == 15\n",
    "Vietnam = all_ds['country'] == 19\n",
    "\n",
    "count_c = all_ds['country'].value_counts()\n",
    "China_t = count_c[0]\n",
    "Italy_t = count_c[1]\n",
    "US_t = count_c[15]\n",
    "Vietnam_t = count_c[19]\n",
    "\n",
    "#no chronic disease\n",
    "China_n_ch = (len(all_ds[China & n_ch])/China_t)*100\n",
    "Italy_n_ch = (len(all_ds[Italy & n_ch])/Italy_t)*100\n",
    "US_n_ch = (len(all_ds[US & n_ch])/US_t)*100\n",
    "Vietnam_n_ch = (len(all_ds[Vietnam & n_ch])/Vietnam_t)*100\n",
    "\n",
    "#chronic disease\n",
    "China_ch = (len(all_ds[China & ch])/China_t)*100\n",
    "Italy_ch = (len(all_ds[Italy & ch])/Italy_t)*100\n",
    "US_ch = (len(all_ds[US & ch])/US_t)*100\n",
    "Vietnam_ch = (len(all_ds[Vietnam & ch])/Vietnam_t)*100\n",
    "\n",
    "#Freq Sex vs Outcome Plot\n",
    "labels = ['No Chronic Disease', 'Chronic Disease']\n",
    "\n",
    "CH = [China_n_ch,China_ch]\n",
    "IT = [Italy_n_ch,Italy_ch]\n",
    "US = [US_n_ch,US_ch]\n",
    "VI = [Vietnam_n_ch,Vietnam_ch]\n",
    "\n",
    "x = np.arange(len(labels))\n",
    "width = 0.2\n",
    "\n",
    "fig, ax = plt.subplots(figsize = (9,6))\n",
    "rects1 = ax.bar(x - 1.5*width, CH, width, label='China', color = 'gold')\n",
    "rects2 = ax.bar(x - .5*width, IT, width, label='Italy', color = 'skyblue')\n",
    "rects2 = ax.bar(x + .5*width, US, width, label='US', color = 'red')\n",
    "rects1 = ax.bar(x + 1.5*width, VI, width, label='Vietnam', color = 'green')\n",
    "\n",
    "ax.set_ylabel('Frequency (%)', fontsize=16)\n",
    "ax.set_title('Frequency of Covid-19 Cases by Country vs Chronic Disease', fontsize=18)\n",
    "ax.set_xticks(x)\n",
    "ax.set_xticklabels(labels, fontsize=16)\n",
    "ax.legend(loc= 'best', fontsize=16)\n",
    "plt.show()"
   ]
  },
  {
   "cell_type": "code",
   "execution_count": null,
   "metadata": {},
   "outputs": [],
   "source": []
  }
 ],
 "metadata": {
  "kernelspec": {
   "display_name": "Python 3",
   "language": "python",
   "name": "python3"
  },
  "language_info": {
   "codemirror_mode": {
    "name": "ipython",
    "version": 3
   },
   "file_extension": ".py",
   "mimetype": "text/x-python",
   "name": "python",
   "nbconvert_exporter": "python",
   "pygments_lexer": "ipython3",
   "version": "3.7.4"
  }
 },
 "nbformat": 4,
 "nbformat_minor": 2
}

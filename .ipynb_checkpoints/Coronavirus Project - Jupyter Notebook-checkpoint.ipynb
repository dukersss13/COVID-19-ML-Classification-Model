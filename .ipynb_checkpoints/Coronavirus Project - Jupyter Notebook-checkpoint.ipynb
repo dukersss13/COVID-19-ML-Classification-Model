{
 "cells": [
  {
   "cell_type": "markdown",
   "metadata": {},
   "source": [
    "## Exploring Coronavirus  \n",
    "### *An analysis of the progression of Covid-19 viral infection around the world*\n",
    "**Duc Le, Matthew Nwerem, Riley Kendall**\n",
    "<br>\n",
    "**Final Project**\n",
    "<br>\n",
    "**CS530**"
   ]
  },
  {
   "cell_type": "code",
   "execution_count": 12,
   "metadata": {},
   "outputs": [],
   "source": [
    "#List all numpy, pandas, sklearn, etc. imports here"
   ]
  },
  {
   "cell_type": "markdown",
   "metadata": {},
   "source": [
    "## Introduction to DataSet:"
   ]
  },
  {
   "cell_type": "markdown",
   "metadata": {},
   "source": [
    "* Data File Name:\n",
    "* Data Description:\n",
    "* Number of Samples =\n",
    "* Number of Features =\n",
    "* Variables chosen to focus on:"
   ]
  },
  {
   "cell_type": "code",
   "execution_count": 11,
   "metadata": {},
   "outputs": [],
   "source": [
    "#call dataset \n",
    "#Dataset URL = "
   ]
  },
  {
   "cell_type": "markdown",
   "metadata": {},
   "source": [
    "## Defining the Problem:"
   ]
  },
  {
   "cell_type": "markdown",
   "metadata": {},
   "source": [
    "* Task chosen by our group: Through our data analysis, we aim to...\n",
    "* Problem being solved: (classification or regression)\n",
    "* Assumptions being made:\n",
    "<br>\n",
    "&emsp; -Intended:\n",
    "<br>\n",
    "&emsp; -Implicit:\n",
    "\n",
    "&emsp; *Our method of analysis solves our chosen task in that...*"
   ]
  },
  {
   "cell_type": "markdown",
   "metadata": {},
   "source": [
    "## Initial Visualization of Data:"
   ]
  },
  {
   "cell_type": "code",
   "execution_count": 10,
   "metadata": {},
   "outputs": [],
   "source": [
    "#Perhaps plot of unprocessed data\n",
    "#or calling parts of dataset that need correction (ex. missing values)"
   ]
  },
  {
   "cell_type": "markdown",
   "metadata": {},
   "source": [
    "**The following in the dataset need to be resolved prior to analysis:**\n",
    "    <ol>\n",
    "      <li>NANs/Missing Values</li>\n",
    "      <li>Outliers</li>\n",
    "      <li>Qualitative Variables</li>\n",
    "      <li>Unscaled Data</li>\n",
    "      <li>High Dimensionality</li>\n",
    "      <li>Etc.</li>\n",
    "    </ol>"
   ]
  },
  {
   "cell_type": "markdown",
   "metadata": {},
   "source": [
    "## Data Preprocessing:"
   ]
  },
  {
   "cell_type": "markdown",
   "metadata": {},
   "source": [
    "*To resolve the issues listed above under Initial Visualization of Data, the following pre-processing procedure was designed and completed:*"
   ]
  },
  {
   "cell_type": "markdown",
   "metadata": {},
   "source": [
    "### Preprocessing Steps:"
   ]
  },
  {
   "cell_type": "markdown",
   "metadata": {},
   "source": [
    "<ol>\n",
    "  <li>Removed NANs/missing values\n",
    "  <br>\n",
    "   &emsp; This was completed by using *method*, which works better than other methods such as ... because ... </li>\n",
    "  <li>Removed Outliers\n",
    "  <br>\n",
    "   &emsp;This was completed by using *method*, which works better than other methods such as ... because ... </li>\n",
    "  <li>Converted qualitative variables to booleans\n",
    "  <br>\n",
    "   &emsp;This was completed by using *method*, which works better than other methods such as ... because ... </li>\n",
    "  <li>Scaled/fitted data to *fit*\n",
    "  <br>\n",
    "  &emsp;This was completed by using *method*, which works better than other methods such as ... because ... </li>\n",
    "  <li>Reduced dimensionality\n",
    "  <br>\n",
    "  &emsp;This was completed by using *method*, which works better than other methods such as ... because ... </li>\n",
    "  <li>Etc.\n",
    "  <br>\n",
    "  &emsp;This was completed by using *method*, which works better than other methods such as ... because ... </li>\n",
    "</ol>"
   ]
  },
  {
   "cell_type": "code",
   "execution_count": 13,
   "metadata": {},
   "outputs": [],
   "source": [
    "#Pre-processing code goes here"
   ]
  },
  {
   "cell_type": "markdown",
   "metadata": {},
   "source": [
    "### Plotting Variables vs Labels:\n"
   ]
  },
  {
   "cell_type": "code",
   "execution_count": 6,
   "metadata": {},
   "outputs": [],
   "source": [
    "#Variables vs Labels plots go here:"
   ]
  },
  {
   "cell_type": "markdown",
   "metadata": {},
   "source": [
    "Explanation and Report regarding the Variable vs Label Plots:\n",
    "* These specific variables and their labels were plotted because...\n",
    "* Interesting relationships include:\n",
    "<br>\n",
    "&emsp; - A\n",
    "<br>\n",
    "&emsp; - B\n",
    "<br>\n",
    "&emsp; - C\n",
    "<br>\n",
    "&emsp; - D\n"
   ]
  },
  {
   "cell_type": "markdown",
   "metadata": {},
   "source": [
    "### Plotting Variables vs Other Variables:\n"
   ]
  },
  {
   "cell_type": "code",
   "execution_count": 14,
   "metadata": {},
   "outputs": [],
   "source": [
    "#Variables vs Other Variables plots go here:\n",
    "#Plot 1)\n",
    "#Plot 2)\n",
    "#Plot 3)\n",
    "#Plot 4)\n",
    "#..."
   ]
  },
  {
   "cell_type": "markdown",
   "metadata": {},
   "source": [
    "Explanation and Report regarding the Variable vs Other Variable Plots:\n",
    "* These specific variables and their labels were plotted because...\n",
    "* Interesting relationships include:\n",
    "<br>\n",
    "&emsp; - A\n",
    "<br>\n",
    "&emsp; - B\n",
    "<br>\n",
    "&emsp; - C\n",
    "<br>\n",
    "&emsp; - D\n"
   ]
  },
  {
   "cell_type": "markdown",
   "metadata": {},
   "source": [
    "## Model Construction:"
   ]
  },
  {
   "cell_type": "markdown",
   "metadata": {},
   "source": [
    "**Considering that we are interested in analyzing the (classification/regression) of our dataset, the following choices were made in order to create our solutions:**\n",
    "<br>\n",
    "* Algorithms used:\n",
    "<br>\n",
    "&emsp; - *Explanation of model/how it works*\n",
    "<br>\n",
    "&emsp; - *Why we chose to use this model*\n",
    "<br>\n",
    "<br>\n",
    "* Particular parameters selected:\n",
    "<br>\n",
    "&emsp; - A param = \n",
    "<br>\n",
    "&emsp; - B param = \n",
    "<br>\n",
    "&emsp; - C param = \n",
    "<br>\n",
    "<br>\n",
    "* Solutions plotted:\n",
    "<ol>\n",
    "  <li> ...</li>\n",
    "    <li>...</li>"
   ]
  },
  {
   "cell_type": "markdown",
   "metadata": {},
   "source": [
    "### Solution 1:"
   ]
  },
  {
   "cell_type": "code",
   "execution_count": null,
   "metadata": {},
   "outputs": [],
   "source": [
    "#Solution 1 plot"
   ]
  },
  {
   "cell_type": "markdown",
   "metadata": {},
   "source": [
    "**Findings:** \n",
    "<br>\n",
    "1.\n",
    "<br>\n",
    "2.\n",
    "<br>\n",
    "3."
   ]
  },
  {
   "cell_type": "markdown",
   "metadata": {},
   "source": [
    "### Solution 2:"
   ]
  },
  {
   "cell_type": "code",
   "execution_count": null,
   "metadata": {},
   "outputs": [],
   "source": [
    "#Solution 2 plot"
   ]
  },
  {
   "cell_type": "markdown",
   "metadata": {},
   "source": [
    "**Findings:** \n",
    "<br>\n",
    "1.\n",
    "<br>\n",
    "2.\n",
    "<br>\n",
    "3."
   ]
  },
  {
   "cell_type": "markdown",
   "metadata": {},
   "source": [
    "### Alternative Models and Parameters Tested:\n",
    "**It is important to note that the models and parameters selected were decided on after testing different models and parameters through trial and error and finding what worked best.  The following plots, Model A, Model B, Model C, and Model D, are examples of this)**"
   ]
  },
  {
   "cell_type": "markdown",
   "metadata": {},
   "source": [
    "**Model A: Information and Plot** \n",
    "<br>\n",
    "&emsp; *Model Type:*\n",
    "<br>\n",
    "&emsp; *Model Paramaters:*\n",
    "<br>\n",
    "&emsp; *Logic Behind Selection:*\n",
    "<br>\n",
    "<br>\n",
    "&emsp; **Plot:**\n"
   ]
  },
  {
   "cell_type": "code",
   "execution_count": 3,
   "metadata": {},
   "outputs": [],
   "source": [
    "#plot of Model A"
   ]
  },
  {
   "cell_type": "code",
   "execution_count": null,
   "metadata": {},
   "outputs": [],
   "source": [
    "#AUC plot of Model A"
   ]
  },
  {
   "cell_type": "markdown",
   "metadata": {},
   "source": [
    "**Summarized Statitics - Model A:** \n",
    "<br>\n",
    "&emsp;R^2 Value =\n",
    "<br>\n",
    "&emsp;Adj R^2 Value =\n",
    "<br>\n",
    "&emsp;AIC Value =\n",
    "<br>\n",
    "&emsp;BIC Value =\n",
    "<br>\n",
    "&emsp;Acurracy =\n",
    "<br>\n",
    "&emsp;ROC =\n",
    "<br>\n",
    "&emsp;AUC ="
   ]
  },
  {
   "cell_type": "markdown",
   "metadata": {},
   "source": [
    "**Model B: Information and Plot** \n",
    "<br>\n",
    "&emsp; *Model Type:*\n",
    "<br>\n",
    "&emsp; *Model Paramaters:*\n",
    "<br>\n",
    "&emsp; *Logic Behind Selection:*\n",
    "<br>\n",
    "<br>\n",
    "&emsp; **Plot:**\n"
   ]
  },
  {
   "cell_type": "code",
   "execution_count": null,
   "metadata": {},
   "outputs": [],
   "source": [
    "#plot of Model B"
   ]
  },
  {
   "cell_type": "code",
   "execution_count": null,
   "metadata": {},
   "outputs": [],
   "source": [
    "#AUC plot of Model B"
   ]
  },
  {
   "cell_type": "markdown",
   "metadata": {},
   "source": [
    "**Summarized Statitics - Model B:** \n",
    "<br>\n",
    "&emsp;R^2 Value =\n",
    "<br>\n",
    "&emsp;Adj R^2 Value =\n",
    "<br>\n",
    "&emsp;AIC Value =\n",
    "<br>\n",
    "&emsp;BIC Value =\n",
    "<br>\n",
    "&emsp;Acurracy =\n",
    "<br>\n",
    "&emsp;ROC =\n",
    "<br>\n",
    "&emsp;AUC ="
   ]
  },
  {
   "cell_type": "markdown",
   "metadata": {},
   "source": [
    "**Model C: Information and Plot** \n",
    "<br>\n",
    "&emsp; *Model Type:*\n",
    "<br>\n",
    "&emsp; *Model Paramaters:*\n",
    "<br>\n",
    "&emsp; *Logic Behind Selection:*\n",
    "<br>\n",
    "<br>\n",
    "&emsp; **Plot:**\n"
   ]
  },
  {
   "cell_type": "code",
   "execution_count": null,
   "metadata": {},
   "outputs": [],
   "source": [
    "#plot of Model C"
   ]
  },
  {
   "cell_type": "code",
   "execution_count": null,
   "metadata": {},
   "outputs": [],
   "source": [
    "#AUC plot of Model C"
   ]
  },
  {
   "cell_type": "markdown",
   "metadata": {},
   "source": [
    "**Summarized Statitics - Model C:** \n",
    "<br>\n",
    "&emsp;R^2 Value =\n",
    "<br>\n",
    "&emsp;Adj R^2 Value =\n",
    "<br>\n",
    "&emsp;AIC Value =\n",
    "<br>\n",
    "&emsp;BIC Value =\n",
    "<br>\n",
    "&emsp;Acurracy =\n",
    "<br>\n",
    "&emsp;ROC =\n",
    "<br>\n",
    "&emsp;AUC ="
   ]
  },
  {
   "cell_type": "markdown",
   "metadata": {},
   "source": [
    "**Model D: Information and Plot** \n",
    "<br>\n",
    "&emsp; *Model Type:*\n",
    "<br>\n",
    "&emsp; *Model Paramaters:*\n",
    "<br>\n",
    "&emsp; *Logic Behind Selection:*\n",
    "<br>\n",
    "<br>\n",
    "&emsp; **Plot:**\n"
   ]
  },
  {
   "cell_type": "code",
   "execution_count": null,
   "metadata": {},
   "outputs": [],
   "source": [
    "#plot of Model D"
   ]
  },
  {
   "cell_type": "code",
   "execution_count": null,
   "metadata": {},
   "outputs": [],
   "source": [
    "#AUC plot of Model D"
   ]
  },
  {
   "cell_type": "markdown",
   "metadata": {},
   "source": [
    "**Summarized Statitics - Model D:** \n",
    "<br>\n",
    "&emsp;R^2 Value =\n",
    "<br>\n",
    "&emsp;Adj R^2 Value =\n",
    "<br>\n",
    "&emsp;AIC Value =\n",
    "<br>\n",
    "&emsp;BIC Value =\n",
    "<br>\n",
    "&emsp;Acurracy =\n",
    "<br>\n",
    "&emsp;ROC =\n",
    "<br>\n",
    "&emsp;AUC ="
   ]
  },
  {
   "cell_type": "markdown",
   "metadata": {},
   "source": [
    "**To summarize:** The best model was found to be ___ , containing the particular parameters:\n",
    "<br>\n",
    "&emsp; - A param = \n",
    "<br>\n",
    "&emsp; - B param = \n",
    "<br>\n",
    "&emsp; - C param = \n",
    "<br>\n",
    "Improvements that can be made to the model include...\n",
    "<br>\n",
    "For these reasons, the two solutions demonstrated at the beginning of the Model Construction section were chosen for our data analysis\n"
   ]
  },
  {
   "cell_type": "markdown",
   "metadata": {},
   "source": [
    "## Future Plans:"
   ]
  },
  {
   "cell_type": "markdown",
   "metadata": {},
   "source": [
    "**Further ways to improve our solution models include...**\n",
    "* Specific features missing that would help or regression (or classification):\n",
    "<br>\n",
    "&emsp; A)  \n",
    "<br>\n",
    "&emsp; B)\n",
    "<br>\n",
    "* Other preprocessing techniques that can be tried:\n",
    "<br>\n",
    "&emsp; A)  \n",
    "<br>\n",
    "&emsp; B)\n",
    "<br>\n",
    "* Different models that can be created:\n",
    "<br>\n",
    "&emsp; A)  \n",
    "<br>\n",
    "&emsp; B)\n",
    "\n",
    "*Note: The above suggestions were not implemented in our project because...*"
   ]
  }
 ],
 "metadata": {
  "kernelspec": {
   "display_name": "Python 3",
   "language": "python",
   "name": "python3"
  },
  "language_info": {
   "codemirror_mode": {
    "name": "ipython",
    "version": 3
   },
   "file_extension": ".py",
   "mimetype": "text/x-python",
   "name": "python",
   "nbconvert_exporter": "python",
   "pygments_lexer": "ipython3",
   "version": "3.7.4"
  }
 },
 "nbformat": 4,
 "nbformat_minor": 2
}

{
 "cells": [
  {
   "cell_type": "code",
   "execution_count": 35,
   "metadata": {},
   "outputs": [],
   "source": [
    "import numpy as np\n",
    "import matplotlib.pyplot as plt\n",
    "import pandas as pd\n",
    "%matplotlib inline"
   ]
  },
  {
   "cell_type": "code",
   "execution_count": 36,
   "metadata": {},
   "outputs": [],
   "source": [
    "# Dataset URL: https://raw.githubusercontent.com/beoutbreakprepared/nCoV2019/master/latest_data/latestdata.csv"
   ]
  },
  {
   "cell_type": "code",
   "execution_count": 37,
   "metadata": {},
   "outputs": [],
   "source": [
    "train = pd.read_csv(\"covid2train.csv\", index_col = 0)"
   ]
  },
  {
   "cell_type": "code",
   "execution_count": 38,
   "metadata": {},
   "outputs": [],
   "source": [
    "def clean(train):\n",
    "    features = ['age', 'sex', 'country', 'chronic_disease_binary', 'que_paso']\n",
    "    xtrain = train[features]\n",
    "\n",
    "# Dropping NA's from only 'sex' + 'country'    \n",
    "    subset = xtrain.dropna(subset = ['age','sex','country'])\n",
    "    countries = xtrain['country'].drop_duplicates().dropna()\n",
    "\n",
    "# Replacing the age ranges with their means    \n",
    "    mp = {'20-29': np.mean([20,29]), '40-49': np.mean([40,49]),'50-59': np.mean([50,59]),\n",
    "          '60-69': np.mean([60,69]), '70-79': np.mean([70,79]),\n",
    "          '80-89': np.mean([80,89]),'90-99': np.mean([90,99]), '80-': 80}\n",
    "    \n",
    "# Dictionary replacing countries with numerical values\n",
    "    mp2 = {}\n",
    "    key = np.arange(len(countries) + 1)\n",
    "    for i,j in zip(countries,key):\n",
    "        val = {i:j}\n",
    "        mp2.update(val)\n",
    "        \n",
    "    mp3 = {'male': 0, 'female': 1}\n",
    "        \n",
    "# Updating the training data with new values\n",
    "    subset = subset.replace(mp).replace(mp2).replace(mp3)\n",
    "    subset['chronic_disease_binary'] = subset['chronic_disease_binary']*1\n",
    "    subset['age'] = subset['age'].astype(float)\n",
    "    \n",
    "    xtrain = subset\n",
    "    ytrain = subset['que_paso']\n",
    "    return xtrain, ytrain, mp2"
   ]
  },
  {
   "cell_type": "code",
   "execution_count": 39,
   "metadata": {},
   "outputs": [],
   "source": [
    "xtrain, ytrain, mp2 = clean(train)"
   ]
  },
  {
   "cell_type": "code",
   "execution_count": 40,
   "metadata": {},
   "outputs": [
    {
     "data": {
      "image/png": "[encoded data removed]",
      "text/plain": [
       "<Figure size 576x360 with 1 Axes>"
      ]
     },
     "metadata": {
      "needs_background": "light"
     },
     "output_type": "display_data"
    }
   ],
   "source": [
    "age_death = xtrain['que_paso'] == 0\n",
    "age_rec = xtrain['que_paso'] == 1\n",
    "\n",
    "xdeath = xtrain[age_death]\n",
    "xrec = xtrain[age_rec]\n",
    "\n",
    "age1 = xdeath['age']\n",
    "age2 = xrec['age']\n",
    "\n",
    "data = [age1, age2]\n",
    "fig, ax = plt.subplots(figsize = (8,5))\n",
    "ax.set_title('Age vs. Outcome', fontsize = 13)\n",
    "\n",
    "ax.boxplot(data, labels = ['Non-Recovered', 'Recovered'])\n",
    "ax.set_ylabel(\"Age\", fontsize = 12)\n",
    "plt.show()"
   ]
  },
  {
   "cell_type": "code",
   "execution_count": 41,
   "metadata": {},
   "outputs": [],
   "source": [
    "xtrain2 = xtrain.drop('que_paso', axis = 1)"
   ]
  },
  {
   "cell_type": "code",
   "execution_count": 42,
   "metadata": {},
   "outputs": [],
   "source": [
    "from sklearn.ensemble import RandomForestClassifier \n",
    "\n",
    "clf =  RandomForestClassifier(n_estimators = 100,\n",
    "                           n_jobs = -1,\n",
    "                           oob_score = True,\n",
    "                           bootstrap = True, random_state=42)\n",
    "\n",
    "clf.fit(xtrain2, ytrain)\n",
    "\n",
    "var_imp = clf.feature_importances_\n",
    "var = xtrain2.columns"
   ]
  },
  {
   "cell_type": "code",
   "execution_count": 43,
   "metadata": {},
   "outputs": [
    {
     "data": {
      "image/png": "[encoded data removed]",
      "text/plain": [
       "<Figure size 576x432 with 1 Axes>"
      ]
     },
     "metadata": {
      "needs_background": "light"
     },
     "output_type": "display_data"
    }
   ],
   "source": [
    "fig, ax = plt.subplots(figsize = (8,6))\n",
    "\n",
    "y_pos = np.arange(len(var))\n",
    "\n",
    "ax.barh(y_pos, var_imp, align='center')\n",
    "ax.set_yticks(y_pos)\n",
    "ax.set_yticklabels(var)\n",
    "ax.invert_yaxis() \n",
    "ax.set_xlabel('Importance', fontsize = 12)\n",
    "ax.set_title('Features Importance', fontsize = 13)\n",
    "\n",
    "plt.show()"
   ]
  },
  {
   "cell_type": "code",
   "execution_count": 44,
   "metadata": {},
   "outputs": [],
   "source": [
    "from sklearn.model_selection import train_test_split\n",
    "from sklearn.metrics import accuracy_score\n",
    "from sklearn import metrics"
   ]
  },
  {
   "cell_type": "code",
   "execution_count": 72,
   "metadata": {},
   "outputs": [],
   "source": [
    "from sklearn.naive_bayes import GaussianNB\n",
    "from sklearn.preprocessing import StandardScaler\n",
    "from sklearn.ensemble import AdaBoostClassifier\n",
    "from sklearn.svm import SVC\n",
    "from sklearn.neighbors import KNeighborsClassifier as knc\n",
    "from sklearn.cluster import KMeans\n",
    "\n",
    "clfs = {\"SVM\": SVC(gamma = 'auto'),\n",
    "    \"Random Forest\": RandomForestClassifier(n_estimators = 100,\n",
    "                           n_jobs = -1,\n",
    "                           oob_score = True,\n",
    "                           bootstrap = True, random_state=42),\n",
    "    \"AdaBoost\": AdaBoostClassifier(),\n",
    "    \"Naive Bayes\": GaussianNB(),\n",
    "       \"K-Means\": KMeans(n_clusters=2, random_state = 42)}"
   ]
  },
  {
   "cell_type": "code",
   "execution_count": 73,
   "metadata": {},
   "outputs": [],
   "source": [
    "def best_k(xtrain,ytrain,xtest,ytest):\n",
    "    krange = range(1,25) # 24 possible k's\n",
    "    scores = []\n",
    "    \n",
    "    for k in krange:\n",
    "        knn = knc(n_neighbors = k)\n",
    "        knn.fit(xtrain,ytrain)\n",
    "        ypred = knn.predict(xtest)\n",
    "        scores.append(metrics.accuracy_score(ytest,ypred))\n",
    "    i = np.argmax(scores)\n",
    "    return krange[i]\n",
    "\n",
    "def knn(xtrain,ytrain,xtest,k):\n",
    "    scaler = StandardScaler()\n",
    "    scaler.fit(xtrain)\n",
    "    scaler.fit(xtest)\n",
    "    xtrain = scaler.transform(xtrain)\n",
    "    xtest = scaler.transform(xtest)\n",
    "    \n",
    "    knn_class_tr = knc(n_neighbors = k).fit(xtrain, ytrain)\n",
    "    y_pred = knn_class_tr.predict(xtest)\n",
    "    return y_pred"
   ]
  },
  {
   "cell_type": "code",
   "execution_count": 76,
   "metadata": {},
   "outputs": [],
   "source": [
    "def classifier(data, clfs_dict):\n",
    "    selection = 0\n",
    "    X = data.drop(\"que_paso\", axis = 1)\n",
    "    y = data.iloc[:,-1]\n",
    "    xtrain, xtest, ytrain, ytest = train_test_split(X, y, test_size = 0.5)\n",
    "\n",
    "    scaler = StandardScaler()\n",
    "    scaler.fit(xtrain)\n",
    "    scaler.fit(xtest)\n",
    "\n",
    "    xtrain = scaler.transform(xtrain)\n",
    "    xtest = scaler.transform(xtest)\n",
    "    while selection != 6:\n",
    "        print(\"1. KNN\")\n",
    "        print(\"2. SVM\")\n",
    "        print(\"3. Random Forest\")\n",
    "        print(\"4. AdaBoost\")\n",
    "        print(\"5. Naive Bayes\")\n",
    "        print(\"6. K-Means\")\n",
    "        print(\"7. Quit\")\n",
    "        selection = int(input(\"Choose your ML method: \"))\n",
    "\n",
    "        if selection == 7:\n",
    "            print(\"Goodbye!\")\n",
    "            break\n",
    "            \n",
    "        elif selection == 1:\n",
    "            k = best_k(xtrain,ytrain,xtest,ytest)\n",
    "            ypred = knn(xtrain,ytrain,xtest,k)\n",
    "            fpr, tpr, thresholds = metrics.roc_curve(ytest, ypred)\n",
    "            auc = round(metrics.auc(fpr,tpr),4)\n",
    "\n",
    "            names = list(clfs_dict.keys())\n",
    "\n",
    "            print(\"The AUC for KNN is\", auc)\n",
    "            plt.plot(fpr, tpr, 'r-', lw = 1)\n",
    "            plt.plot([0, 1], [0, 1], color = 'navy', lw = 1, linestyle = '--')\n",
    "            plt.xlabel(\"False Positive Rate\")\n",
    "            plt.ylabel(\"True Positive Rate\")\n",
    "            plt.title(\"K Nearest Neighbors\")\n",
    "            plt.show()\n",
    "            return auc\n",
    "\n",
    "        else:\n",
    "            ML = list(clfs_dict.values())\n",
    "            clf = ML[selection - 2].fit(xtrain,ytrain)\n",
    "            ypred = clf.predict(xtest)\n",
    "            fpr, tpr, thresholds = metrics.roc_curve(ytest, ypred)\n",
    "            auc = round(metrics.auc(fpr,tpr),4)\n",
    "\n",
    "            names = list(clfs_dict.keys())\n",
    "\n",
    "            print(\"The AUC for\", names[selection - 2], \"is\", auc)\n",
    "            plt.plot(fpr, tpr, 'r-', lw = 1)\n",
    "            plt.plot([0, 1], [0, 1], color = 'navy', lw = 1, linestyle = '--')\n",
    "            plt.xlabel(\"False Positive Rate\")\n",
    "            plt.ylabel(\"True Positive Rate\")\n",
    "            plt.title(names[selection - 2])\n",
    "            plt.show()\n",
    "            return auc"
   ]
  },
  {
   "cell_type": "code",
   "execution_count": 77,
   "metadata": {},
   "outputs": [
    {
     "name": "stdout",
     "output_type": "stream",
     "text": [
      "1. KNN\n",
      "2. SVM\n",
      "3. Random Forest\n",
      "4. AdaBoost\n",
      "5. Naive Bayes\n",
      "6. K-Means\n",
      "7. Quit\n",
      "Choose your ML method: 6\n",
      "The AUC for K-Means is 0.7255\n"
     ]
    },
    {
     "data": {
      "image/png": "[encoded data removed]",
      "text/plain": [
       "<Figure size 432x288 with 1 Axes>"
      ]
     },
     "metadata": {
      "needs_background": "light"
     },
     "output_type": "display_data"
    }
   ],
   "source": [
    "auc = classifier(xtrain, clfs)"
   ]
  },
  {
   "cell_type": "code",
   "execution_count": null,
   "metadata": {},
   "outputs": [],
   "source": []
  }
 ],
 "metadata": {
  "kernelspec": {
   "display_name": "Python 3",
   "language": "python",
   "name": "python3"
  },
  "language_info": {
   "codemirror_mode": {
    "name": "ipython",
    "version": 3
   },
   "file_extension": ".py",
   "mimetype": "text/x-python",
   "name": "python",
   "nbconvert_exporter": "python",
   "pygments_lexer": "ipython3",
   "version": "3.7.4"
  }
 },
 "nbformat": 4,
 "nbformat_minor": 2
}

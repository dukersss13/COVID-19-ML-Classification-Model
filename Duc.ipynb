{
 "cells": [
  {
   "cell_type": "code",
   "execution_count": 1,
   "metadata": {},
   "outputs": [],
   "source": [
    "import numpy as np\n",
    "import matplotlib.pyplot as plt\n",
    "import pandas as pd\n",
    "%matplotlib inline"
   ]
  },
  {
   "cell_type": "code",
   "execution_count": 2,
   "metadata": {},
   "outputs": [],
   "source": [
    "# Dataset URL: https://raw.githubusercontent.com/beoutbreakprepared/nCoV2019/master/latest_data/latestdata.csv"
   ]
  },
  {
   "cell_type": "code",
   "execution_count": 3,
   "metadata": {},
   "outputs": [],
   "source": [
    "#d = pd.read_csv(\"https://raw.githubusercontent.com/beoutbreakprepared/nCoV2019/master/latest_data/latestdata.csv\")"
   ]
  },
  {
   "cell_type": "code",
   "execution_count": 4,
   "metadata": {},
   "outputs": [],
   "source": [
    "train = pd.read_csv(\"covid2train.csv\", index_col = 0)"
   ]
  },
  {
   "cell_type": "code",
   "execution_count": 15,
   "metadata": {},
   "outputs": [],
   "source": [
    "def clean(train):\n",
    "    features = ['age', 'sex', 'country', 'chronic_disease_binary', 'que_paso']\n",
    "    xtrain = train[features]\n",
    "\n",
    "# Dropping NA's from only 'sex' + 'country'    \n",
    "    subset = xtrain.dropna(subset = ['age','sex','country'])\n",
    "    countries = xtrain['country'].drop_duplicates().dropna()\n",
    "\n",
    "# Replacing the age ranges with their means    \n",
    "    mp = {'20-29': np.mean([20,29]), '40-49': np.mean([40,49]),'50-59': np.mean([50,59]),\n",
    "          '60-69': np.mean([60,69]), '70-79': np.mean([70,79]),\n",
    "          '80-89': np.mean([80,89]),'90-99': np.mean([90,99]), '80-': 80}\n",
    "    \n",
    "# Dictionary replacing countries with numerical values\n",
    "    mp2 = {}\n",
    "    key = np.arange(len(countries) + 1)\n",
    "    for i,j in zip(countries,key):\n",
    "        val = {i:j}\n",
    "        mp2.update(val)\n",
    "        \n",
    "    mp3 = {'male': 0, 'female': 1}\n",
    "        \n",
    "# Updating the training data with new values\n",
    "    subset = subset.replace(mp).replace(mp2)\n",
    "    subset = subset.replace(mp3)\n",
    "    subset['chronic_disease_binary'] = subset['chronic_disease_binary']*1\n",
    "    subset['age'] = subset['age'].astype(float)\n",
    "    xtrain = subset.drop('que_paso', axis = 1)\n",
    "    ytrain = subset['que_paso']\n",
    "    return xtrain, ytrain"
   ]
  },
  {
   "cell_type": "code",
   "execution_count": 16,
   "metadata": {},
   "outputs": [],
   "source": [
    "xtrain, ytrain = clean(train)"
   ]
  },
  {
   "cell_type": "code",
   "execution_count": null,
   "metadata": {},
   "outputs": [],
   "source": []
  },
  {
   "cell_type": "code",
   "execution_count": null,
   "metadata": {},
   "outputs": [],
   "source": []
  },
  {
   "cell_type": "code",
   "execution_count": null,
   "metadata": {},
   "outputs": [],
   "source": []
  }
 ],
 "metadata": {
  "kernelspec": {
   "display_name": "Python 3",
   "language": "python",
   "name": "python3"
  },
  "language_info": {
   "codemirror_mode": {
    "name": "ipython",
    "version": 3
   },
   "file_extension": ".py",
   "mimetype": "text/x-python",
   "name": "python",
   "nbconvert_exporter": "python",
   "pygments_lexer": "ipython3",
   "version": "3.7.4"
  }
 },
 "nbformat": 4,
 "nbformat_minor": 2
}

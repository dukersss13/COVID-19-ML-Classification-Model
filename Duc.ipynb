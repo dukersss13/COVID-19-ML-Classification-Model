{
 "cells": [
  {
   "cell_type": "code",
   "execution_count": 1,
   "metadata": {},
   "outputs": [],
   "source": [
    "import numpy as np\n",
    "import matplotlib.pyplot as plt\n",
    "import pandas as pd\n",
    "%matplotlib inline"
   ]
  },
  {
   "cell_type": "code",
   "execution_count": 2,
   "metadata": {},
   "outputs": [],
   "source": [
    "# Dataset URL: https://raw.githubusercontent.com/beoutbreakprepared/nCoV2019/master/latest_data/latestdata.csv"
   ]
  },
  {
   "cell_type": "code",
   "execution_count": 3,
   "metadata": {},
   "outputs": [],
   "source": [
    "train = pd.read_csv(\"covid2train.csv\", index_col = 0)"
   ]
  },
  {
   "cell_type": "code",
   "execution_count": 4,
   "metadata": {},
   "outputs": [],
   "source": [
    "def clean(train):\n",
    "    features = ['age', 'sex', 'country', 'chronic_disease_binary', 'que_paso']\n",
    "    xtrain = train[features]\n",
    "\n",
    "# Dropping NA's from only 'sex' + 'country'    \n",
    "    subset = xtrain.dropna(subset = ['age','sex','country'])\n",
    "    countries = xtrain['country'].drop_duplicates().dropna()\n",
    "\n",
    "# Replacing the age ranges with their means    \n",
    "    mp = {'20-29': np.mean([20,29]), '40-49': np.mean([40,49]),'50-59': np.mean([50,59]),\n",
    "          '60-69': np.mean([60,69]), '70-79': np.mean([70,79]),\n",
    "          '80-89': np.mean([80,89]),'90-99': np.mean([90,99]), '80-': 80}\n",
    "    \n",
    "# Dictionary replacing countries with numerical values\n",
    "    mp2 = {}\n",
    "    key = np.arange(len(countries) + 1)\n",
    "    for i,j in zip(countries,key):\n",
    "        val = {i:j}\n",
    "        mp2.update(val)\n",
    "        \n",
    "    mp3 = {'male': 0, 'female': 1}\n",
    "        \n",
    "# Updating the training data with new values\n",
    "    subset = subset.replace(mp).replace(mp2).replace(mp3)\n",
    "    subset['chronic_disease_binary'] = subset['chronic_disease_binary']*1\n",
    "    subset['age'] = subset['age'].astype(float)\n",
    "    \n",
    "    xtrain = subset\n",
    "    ytrain = subset['que_paso']\n",
    "    return xtrain, ytrain, mp2"
   ]
  },
  {
   "cell_type": "code",
   "execution_count": 5,
   "metadata": {},
   "outputs": [],
   "source": [
    "xtrain, ytrain, mp2 = clean(train)"
   ]
  },
  {
   "cell_type": "code",
   "execution_count": 6,
   "metadata": {},
   "outputs": [
    {
     "data": {
      "image/png": "[encoded data removed]",
      "text/plain": [
       "<Figure size 576x360 with 1 Axes>"
      ]
     },
     "metadata": {
      "needs_background": "light"
     },
     "output_type": "display_data"
    }
   ],
   "source": [
    "age_death = xtrain['que_paso'] == 0\n",
    "age_rec = xtrain['que_paso'] == 1\n",
    "age_ill = xtrain['que_paso'] == 2\n",
    "\n",
    "xdeath = xtrain[age_death]\n",
    "xrec = xtrain[age_rec]\n",
    "x_ill = xtrain[age_ill]\n",
    "\n",
    "age1 = xdeath['age']\n",
    "age2 = xrec['age']\n",
    "age3 = x_ill['age']\n",
    "\n",
    "data = [age1, age2, age3]\n",
    "fig, ax = plt.subplots(figsize = (8,5))\n",
    "ax.set_title('Age vs. Outcome')\n",
    "\n",
    "ax.boxplot(data, labels = ['Death', 'Recovery', 'Critical Condition'])\n",
    "ax.set_ylabel(\"Age\")\n",
    "plt.show()"
   ]
  },
  {
   "cell_type": "code",
   "execution_count": 7,
   "metadata": {},
   "outputs": [],
   "source": [
    "xtrain = xtrain.drop('que_paso', axis = 1)"
   ]
  },
  {
   "cell_type": "code",
   "execution_count": 8,
   "metadata": {},
   "outputs": [],
   "source": [
    "from sklearn.ensemble import RandomForestClassifier \n",
    "\n",
    "clf =  RandomForestClassifier(n_estimators = 100,\n",
    "                           n_jobs = -1,\n",
    "                           oob_score = True,\n",
    "                           bootstrap = True, random_state=42)\n",
    "\n",
    "clf.fit(xtrain, ytrain)\n",
    "\n",
    "var_imp = clf.feature_importances_\n",
    "var = xtrain.columns"
   ]
  },
  {
   "cell_type": "code",
   "execution_count": 9,
   "metadata": {},
   "outputs": [
    {
     "data": {
      "image/png": "[encoded data removed]",
      "text/plain": [
       "<Figure size 576x432 with 1 Axes>"
      ]
     },
     "metadata": {
      "needs_background": "light"
     },
     "output_type": "display_data"
    }
   ],
   "source": [
    "fig, ax = plt.subplots(figsize = (8,6))\n",
    "\n",
    "y_pos = np.arange(len(var))\n",
    "\n",
    "ax.barh(y_pos, var_imp, align='center')\n",
    "ax.set_yticks(y_pos)\n",
    "ax.set_yticklabels(var)\n",
    "ax.invert_yaxis() \n",
    "ax.set_xlabel('Importance')\n",
    "ax.set_title('Features Importance')\n",
    "\n",
    "plt.show()"
   ]
  },
  {
   "cell_type": "code",
   "execution_count": 10,
   "metadata": {},
   "outputs": [
    {
     "name": "stdout",
     "output_type": "stream",
     "text": [
      "The accuracy for Random Forest is 0.89\n"
     ]
    }
   ],
   "source": [
    "from sklearn.model_selection import train_test_split\n",
    "from sklearn.metrics import accuracy_score\n",
    "from sklearn import metrics\n",
    "\n",
    "cv_xtrain, cv_xtest, cv_ytrain, cv_ytest = train_test_split(xtrain, ytrain, test_size = 0.5)\n",
    "\n",
    "\n",
    "clf =  RandomForestClassifier(n_estimators = 100,\n",
    "                           n_jobs = -1,\n",
    "                           oob_score = True,\n",
    "                           bootstrap = True, random_state=42)\n",
    "\n",
    "clf.fit(cv_xtrain, cv_ytrain)\n",
    "ypred = clf.predict(cv_xtest)\n",
    "\n",
    "print(\"The accuracy for Random Forest is\",round(accuracy_score(ypred, cv_ytest),3))"
   ]
  },
  {
   "cell_type": "code",
   "execution_count": 11,
   "metadata": {},
   "outputs": [
    {
     "name": "stdout",
     "output_type": "stream",
     "text": [
      "The accuracy for Multinomial Naive Bayes is 0.499\n"
     ]
    }
   ],
   "source": [
    "from sklearn.naive_bayes import MultinomialNB\n",
    "from sklearn.preprocessing import StandardScaler\n",
    "\n",
    "clf2 = MultinomialNB()\n",
    "clf2.fit(cv_xtrain, cv_ytrain)\n",
    "\n",
    "NB_ypred = clf2.predict(cv_xtest)\n",
    "print(\"The accuracy for Multinomial Naive Bayes is\", round(accuracy_score(NB_ypred, cv_ytest),3))"
   ]
  },
  {
   "cell_type": "code",
   "execution_count": 12,
   "metadata": {},
   "outputs": [
    {
     "name": "stdout",
     "output_type": "stream",
     "text": [
      "The accuracy for AdaBoost Classifier is 0.828\n"
     ]
    }
   ],
   "source": [
    "from sklearn.ensemble import AdaBoostClassifier\n",
    "\n",
    "clf3 = AdaBoostClassifier()\n",
    "clf3.fit(cv_xtrain, cv_ytrain)\n",
    "\n",
    "AB_ypred = clf3.predict(cv_xtest)\n",
    "\n",
    "print(\"The accuracy for AdaBoost Classifier is\", round(accuracy_score(AB_ypred, cv_ytest),3))"
   ]
  },
  {
   "cell_type": "code",
   "execution_count": 13,
   "metadata": {},
   "outputs": [
    {
     "name": "stdout",
     "output_type": "stream",
     "text": [
      "The accuracy for SVM Classifier is 0.843\n"
     ]
    }
   ],
   "source": [
    "from sklearn.svm import SVC\n",
    "\n",
    "clf4 = SVC(gamma = 'auto')\n",
    "clf4.fit(cv_xtrain, cv_ytrain)\n",
    "\n",
    "SVM_ypred = clf4.predict(cv_xtest)\n",
    "\n",
    "print(\"The accuracy for SVM Classifier is\", round(accuracy_score(SVM_ypred, cv_ytest),3))"
   ]
  },
  {
   "cell_type": "code",
   "execution_count": 14,
   "metadata": {},
   "outputs": [
    {
     "name": "stdout",
     "output_type": "stream",
     "text": [
      "The accuracy for KNN Classifier is 0.858\n"
     ]
    }
   ],
   "source": [
    "from sklearn.neighbors import KNeighborsClassifier as knc\n",
    "\n",
    "def best_k(xtrain,ytrain,xtest,ytest):\n",
    "    krange = range(1,25) # 24 possible k's\n",
    "    scores = []\n",
    "    for k in krange:\n",
    "        knn = knc(n_neighbors = k)\n",
    "        knn.fit(xtrain,ytrain)\n",
    "        ypred = knn.predict(xtest)\n",
    "        scores.append(metrics.accuracy_score(ytest,ypred))\n",
    "    i = np.argmax(scores)\n",
    "    return krange[i]\n",
    "\n",
    "def knn(xtrain,ytrain,xtest,k):\n",
    "    scaler = StandardScaler()\n",
    "    scaler.fit(xtrain)\n",
    "    scaler.fit(xtest)\n",
    "    xtrain = scaler.transform(xtrain)\n",
    "    xtest = scaler.transform(xtest)\n",
    "    \n",
    "    knn_class_tr = knc(n_neighbors = k).fit(xtrain, ytrain)\n",
    "    y_pred = knn_class_tr.predict(xtest)\n",
    "    return y_pred\n",
    "\n",
    "k = best_k(cv_xtrain, cv_ytrain, cv_xtest, cv_ytest)\n",
    "KNN_ypred = knn(cv_xtrain, cv_ytrain, cv_xtest, k)\n",
    "print(\"The accuracy for KNN Classifier is\", round(accuracy_score(KNN_ypred, cv_ytest), 3))"
   ]
  },
  {
   "cell_type": "code",
   "execution_count": null,
   "metadata": {},
   "outputs": [],
   "source": []
  }
 ],
 "metadata": {
  "kernelspec": {
   "display_name": "Python 3",
   "language": "python",
   "name": "python3"
  },
  "language_info": {
   "codemirror_mode": {
    "name": "ipython",
    "version": 3
   },
   "file_extension": ".py",
   "mimetype": "text/x-python",
   "name": "python",
   "nbconvert_exporter": "python",
   "pygments_lexer": "ipython3",
   "version": "3.7.4"
  }
 },
 "nbformat": 4,
 "nbformat_minor": 2
}
